{
 "cells": [
  {
   "cell_type": "code",
   "execution_count": 4,
   "id": "921891b7",
   "metadata": {},
   "outputs": [],
   "source": [
    "import pandas as pd\n",
    "import numpy as np\n",
    "from sklearn.preprocessing import LabelEncoder\n",
    "\n",
    "\n",
    "# скроем предупреждения о возможных ошибках для лучшей читаемости\n",
    "import warnings\n",
    "warnings.filterwarnings('ignore')"
   ]
  },
  {
   "cell_type": "code",
   "execution_count": 13,
   "id": "474f4b63",
   "metadata": {},
   "outputs": [],
   "source": [
    "data = pd.read_csv('region25.csv')"
   ]
  },
  {
   "cell_type": "code",
   "execution_count": 15,
   "id": "ec3cebe1",
   "metadata": {},
   "outputs": [],
   "source": [
    "data=data.drop(index = list(range(data.shape[0] // 16, data.shape[0])))"
   ]
  },
  {
   "cell_type": "code",
   "execution_count": 16,
   "id": "d46195a2",
   "metadata": {},
   "outputs": [
    {
     "data": {
      "text/html": [
       "<div>\n",
       "<style scoped>\n",
       "    .dataframe tbody tr th:only-of-type {\n",
       "        vertical-align: middle;\n",
       "    }\n",
       "\n",
       "    .dataframe tbody tr th {\n",
       "        vertical-align: top;\n",
       "    }\n",
       "\n",
       "    .dataframe thead th {\n",
       "        text-align: right;\n",
       "    }\n",
       "</style>\n",
       "<table border=\"1\" class=\"dataframe\">\n",
       "  <thead>\n",
       "    <tr style=\"text-align: right;\">\n",
       "      <th></th>\n",
       "      <th>brand</th>\n",
       "      <th>name</th>\n",
       "      <th>bodyType</th>\n",
       "      <th>color</th>\n",
       "      <th>fuelType</th>\n",
       "      <th>year</th>\n",
       "      <th>mileage</th>\n",
       "      <th>transmission</th>\n",
       "      <th>power</th>\n",
       "      <th>price</th>\n",
       "      <th>vehicleConfiguration</th>\n",
       "      <th>engineName</th>\n",
       "      <th>engineDisplacement</th>\n",
       "      <th>date</th>\n",
       "      <th>location</th>\n",
       "      <th>link</th>\n",
       "      <th>description</th>\n",
       "      <th>parse_date</th>\n",
       "    </tr>\n",
       "  </thead>\n",
       "  <tbody>\n",
       "    <tr>\n",
       "      <th>0</th>\n",
       "      <td>Fiat</td>\n",
       "      <td>124 Spider</td>\n",
       "      <td>Открытый</td>\n",
       "      <td>Синий</td>\n",
       "      <td>Бензин</td>\n",
       "      <td>NaN</td>\n",
       "      <td>8000.0</td>\n",
       "      <td>Автомат</td>\n",
       "      <td>NaN</td>\n",
       "      <td>1830000</td>\n",
       "      <td>NaN</td>\n",
       "      <td>NaN</td>\n",
       "      <td>NaN</td>\n",
       "      <td>2022-08-20 00:00:00</td>\n",
       "      <td>Владивосток</td>\n",
       "      <td>https://vladivostok.drom.ru/fiat/124_spider/47...</td>\n",
       "      <td>Только сегодня с таможни забрали Как новый! Кр...</td>\n",
       "      <td>2022-08-20 04:00:00</td>\n",
       "    </tr>\n",
       "    <tr>\n",
       "      <th>1</th>\n",
       "      <td>BMW</td>\n",
       "      <td>i3</td>\n",
       "      <td>Хэтчбек 5 дв.</td>\n",
       "      <td>Черный</td>\n",
       "      <td>Электро</td>\n",
       "      <td>NaN</td>\n",
       "      <td>12000.0</td>\n",
       "      <td>Автомат</td>\n",
       "      <td>NaN</td>\n",
       "      <td>1830000</td>\n",
       "      <td>NaN</td>\n",
       "      <td>NaN</td>\n",
       "      <td>NaN</td>\n",
       "      <td>2022-08-20 00:00:00</td>\n",
       "      <td>Владивосток</td>\n",
       "      <td>https://vladivostok.drom.ru/bmw/i3/47958301.html</td>\n",
       "      <td>Электричка +двс V-600cc ,как новая BMW i3 с ге...</td>\n",
       "      <td>2022-08-20 04:00:00</td>\n",
       "    </tr>\n",
       "    <tr>\n",
       "      <th>2</th>\n",
       "      <td>Mercedes-Benz</td>\n",
       "      <td>GLE Coupe</td>\n",
       "      <td>Джип 5 дв.</td>\n",
       "      <td>Бордовый</td>\n",
       "      <td>Бензин</td>\n",
       "      <td>2015.0</td>\n",
       "      <td>57000.0</td>\n",
       "      <td>АКПП</td>\n",
       "      <td>367.0</td>\n",
       "      <td>4600000</td>\n",
       "      <td>450 AMG 4MATIC Особая серия</td>\n",
       "      <td>M 276 DE 30 AL</td>\n",
       "      <td>3.0 LTR</td>\n",
       "      <td>2022-08-20 00:00:00</td>\n",
       "      <td>Владивосток</td>\n",
       "      <td>https://vladivostok.drom.ru/mercedes-benz/gle_...</td>\n",
       "      <td>Отличное состояние автомобиля. Комплектация «G...</td>\n",
       "      <td>2022-08-20 04:00:00</td>\n",
       "    </tr>\n",
       "    <tr>\n",
       "      <th>3</th>\n",
       "      <td>Mercedes-Benz</td>\n",
       "      <td>G-Class</td>\n",
       "      <td>Джип 5 дв.</td>\n",
       "      <td>Черный</td>\n",
       "      <td>Бензин</td>\n",
       "      <td>2002.0</td>\n",
       "      <td>200000.0</td>\n",
       "      <td>АКПП</td>\n",
       "      <td>296.0</td>\n",
       "      <td>2999999</td>\n",
       "      <td>G 500</td>\n",
       "      <td>M 113 E 50</td>\n",
       "      <td>5.0 LTR</td>\n",
       "      <td>2022-08-20 00:00:00</td>\n",
       "      <td>Владивосток</td>\n",
       "      <td>https://vladivostok.drom.ru/mercedes-benz/g-cl...</td>\n",
       "      <td>Продам правильный гелик. Лучшая машина. Полнос...</td>\n",
       "      <td>2022-08-20 04:00:00</td>\n",
       "    </tr>\n",
       "    <tr>\n",
       "      <th>4</th>\n",
       "      <td>Audi</td>\n",
       "      <td>Q7</td>\n",
       "      <td>Джип 5 дв.</td>\n",
       "      <td>Белый</td>\n",
       "      <td>Бензин</td>\n",
       "      <td>NaN</td>\n",
       "      <td>67000.0</td>\n",
       "      <td>Автомат</td>\n",
       "      <td>252.0</td>\n",
       "      <td>3300000</td>\n",
       "      <td>NaN</td>\n",
       "      <td>NaN</td>\n",
       "      <td>NaN</td>\n",
       "      <td>2022-08-20 00:00:00</td>\n",
       "      <td>Владивосток</td>\n",
       "      <td>https://vladivostok.drom.ru/audi/q7/46498184.html</td>\n",
       "      <td>Audi Q7 II S line (252л.с.) 4WD Внедорожник 5 ...</td>\n",
       "      <td>2022-08-20 04:00:00</td>\n",
       "    </tr>\n",
       "  </tbody>\n",
       "</table>\n",
       "</div>"
      ],
      "text/plain": [
       "           brand        name       bodyType     color fuelType    year  \\\n",
       "0           Fiat  124 Spider       Открытый     Синий   Бензин     NaN   \n",
       "1            BMW          i3  Хэтчбек 5 дв.    Черный  Электро     NaN   \n",
       "2  Mercedes-Benz   GLE Coupe     Джип 5 дв.  Бордовый   Бензин  2015.0   \n",
       "3  Mercedes-Benz     G-Class     Джип 5 дв.    Черный   Бензин  2002.0   \n",
       "4           Audi          Q7     Джип 5 дв.     Белый   Бензин     NaN   \n",
       "\n",
       "    mileage transmission  power    price         vehicleConfiguration  \\\n",
       "0    8000.0      Автомат    NaN  1830000                          NaN   \n",
       "1   12000.0      Автомат    NaN  1830000                          NaN   \n",
       "2   57000.0         АКПП  367.0  4600000  450 AMG 4MATIC Особая серия   \n",
       "3  200000.0         АКПП  296.0  2999999                        G 500   \n",
       "4   67000.0      Автомат  252.0  3300000                          NaN   \n",
       "\n",
       "       engineName engineDisplacement                 date     location  \\\n",
       "0             NaN                NaN  2022-08-20 00:00:00  Владивосток   \n",
       "1             NaN                NaN  2022-08-20 00:00:00  Владивосток   \n",
       "2  M 276 DE 30 AL            3.0 LTR  2022-08-20 00:00:00  Владивосток   \n",
       "3      M 113 E 50            5.0 LTR  2022-08-20 00:00:00  Владивосток   \n",
       "4             NaN                NaN  2022-08-20 00:00:00  Владивосток   \n",
       "\n",
       "                                                link  \\\n",
       "0  https://vladivostok.drom.ru/fiat/124_spider/47...   \n",
       "1   https://vladivostok.drom.ru/bmw/i3/47958301.html   \n",
       "2  https://vladivostok.drom.ru/mercedes-benz/gle_...   \n",
       "3  https://vladivostok.drom.ru/mercedes-benz/g-cl...   \n",
       "4  https://vladivostok.drom.ru/audi/q7/46498184.html   \n",
       "\n",
       "                                         description           parse_date  \n",
       "0  Только сегодня с таможни забрали Как новый! Кр...  2022-08-20 04:00:00  \n",
       "1  Электричка +двс V-600cc ,как новая BMW i3 с ге...  2022-08-20 04:00:00  \n",
       "2  Отличное состояние автомобиля. Комплектация «G...  2022-08-20 04:00:00  \n",
       "3  Продам правильный гелик. Лучшая машина. Полнос...  2022-08-20 04:00:00  \n",
       "4  Audi Q7 II S line (252л.с.) 4WD Внедорожник 5 ...  2022-08-20 04:00:00  "
      ]
     },
     "execution_count": 16,
     "metadata": {},
     "output_type": "execute_result"
    }
   ],
   "source": [
    "data.head()"
   ]
  },
  {
   "cell_type": "code",
   "execution_count": 17,
   "id": "c8ecd711",
   "metadata": {},
   "outputs": [
    {
     "data": {
      "text/html": [
       "<div>\n",
       "<style scoped>\n",
       "    .dataframe tbody tr th:only-of-type {\n",
       "        vertical-align: middle;\n",
       "    }\n",
       "\n",
       "    .dataframe tbody tr th {\n",
       "        vertical-align: top;\n",
       "    }\n",
       "\n",
       "    .dataframe thead th {\n",
       "        text-align: right;\n",
       "    }\n",
       "</style>\n",
       "<table border=\"1\" class=\"dataframe\">\n",
       "  <thead>\n",
       "    <tr style=\"text-align: right;\">\n",
       "      <th></th>\n",
       "      <th>brand</th>\n",
       "      <th>name</th>\n",
       "      <th>bodyType</th>\n",
       "      <th>price</th>\n",
       "      <th>date</th>\n",
       "      <th>location</th>\n",
       "      <th>link</th>\n",
       "      <th>parse_date</th>\n",
       "    </tr>\n",
       "  </thead>\n",
       "  <tbody>\n",
       "    <tr>\n",
       "      <th>0</th>\n",
       "      <td>Fiat</td>\n",
       "      <td>124 Spider</td>\n",
       "      <td>Открытый</td>\n",
       "      <td>1830000</td>\n",
       "      <td>2022-08-20 00:00:00</td>\n",
       "      <td>Владивосток</td>\n",
       "      <td>https://vladivostok.drom.ru/fiat/124_spider/47...</td>\n",
       "      <td>2022-08-20 04:00:00</td>\n",
       "    </tr>\n",
       "    <tr>\n",
       "      <th>1</th>\n",
       "      <td>BMW</td>\n",
       "      <td>i3</td>\n",
       "      <td>Хэтчбек 5 дв.</td>\n",
       "      <td>1830000</td>\n",
       "      <td>2022-08-20 00:00:00</td>\n",
       "      <td>Владивосток</td>\n",
       "      <td>https://vladivostok.drom.ru/bmw/i3/47958301.html</td>\n",
       "      <td>2022-08-20 04:00:00</td>\n",
       "    </tr>\n",
       "    <tr>\n",
       "      <th>2</th>\n",
       "      <td>Mercedes-Benz</td>\n",
       "      <td>GLE Coupe</td>\n",
       "      <td>Джип 5 дв.</td>\n",
       "      <td>4600000</td>\n",
       "      <td>2022-08-20 00:00:00</td>\n",
       "      <td>Владивосток</td>\n",
       "      <td>https://vladivostok.drom.ru/mercedes-benz/gle_...</td>\n",
       "      <td>2022-08-20 04:00:00</td>\n",
       "    </tr>\n",
       "    <tr>\n",
       "      <th>3</th>\n",
       "      <td>Mercedes-Benz</td>\n",
       "      <td>G-Class</td>\n",
       "      <td>Джип 5 дв.</td>\n",
       "      <td>2999999</td>\n",
       "      <td>2022-08-20 00:00:00</td>\n",
       "      <td>Владивосток</td>\n",
       "      <td>https://vladivostok.drom.ru/mercedes-benz/g-cl...</td>\n",
       "      <td>2022-08-20 04:00:00</td>\n",
       "    </tr>\n",
       "    <tr>\n",
       "      <th>4</th>\n",
       "      <td>Audi</td>\n",
       "      <td>Q7</td>\n",
       "      <td>Джип 5 дв.</td>\n",
       "      <td>3300000</td>\n",
       "      <td>2022-08-20 00:00:00</td>\n",
       "      <td>Владивосток</td>\n",
       "      <td>https://vladivostok.drom.ru/audi/q7/46498184.html</td>\n",
       "      <td>2022-08-20 04:00:00</td>\n",
       "    </tr>\n",
       "    <tr>\n",
       "      <th>...</th>\n",
       "      <td>...</td>\n",
       "      <td>...</td>\n",
       "      <td>...</td>\n",
       "      <td>...</td>\n",
       "      <td>...</td>\n",
       "      <td>...</td>\n",
       "      <td>...</td>\n",
       "      <td>...</td>\n",
       "    </tr>\n",
       "    <tr>\n",
       "      <th>5905</th>\n",
       "      <td>Toyota</td>\n",
       "      <td>Corolla</td>\n",
       "      <td>Седан</td>\n",
       "      <td>168000</td>\n",
       "      <td>2022-08-19 00:00:00</td>\n",
       "      <td>Партизанск</td>\n",
       "      <td>https://partizansk.drom.ru/toyota/corolla/4794...</td>\n",
       "      <td>2022-08-20 06:00:00</td>\n",
       "    </tr>\n",
       "    <tr>\n",
       "      <th>5906</th>\n",
       "      <td>Lexus</td>\n",
       "      <td>RX350</td>\n",
       "      <td>Джип 5 дв.</td>\n",
       "      <td>1200000</td>\n",
       "      <td>2022-08-19 00:00:00</td>\n",
       "      <td>Владивосток</td>\n",
       "      <td>https://vladivostok.drom.ru/lexus/rx350/474271...</td>\n",
       "      <td>2022-08-20 06:00:00</td>\n",
       "    </tr>\n",
       "    <tr>\n",
       "      <th>5907</th>\n",
       "      <td>Honda</td>\n",
       "      <td>Stepwgn</td>\n",
       "      <td>Минивэн</td>\n",
       "      <td>1630000</td>\n",
       "      <td>2022-08-19 00:00:00</td>\n",
       "      <td>Владивосток</td>\n",
       "      <td>https://vladivostok.drom.ru/honda/stepwgn/4794...</td>\n",
       "      <td>2022-08-20 06:00:00</td>\n",
       "    </tr>\n",
       "    <tr>\n",
       "      <th>5908</th>\n",
       "      <td>Toyota</td>\n",
       "      <td>RAV4</td>\n",
       "      <td>Джип 5 дв.</td>\n",
       "      <td>2800000</td>\n",
       "      <td>2022-08-19 00:00:00</td>\n",
       "      <td>Владивосток</td>\n",
       "      <td>https://vladivostok.drom.ru/toyota/rav4/479498...</td>\n",
       "      <td>2022-08-20 06:00:00</td>\n",
       "    </tr>\n",
       "    <tr>\n",
       "      <th>5909</th>\n",
       "      <td>Toyota</td>\n",
       "      <td>Passo</td>\n",
       "      <td>Хэтчбек 5 дв.</td>\n",
       "      <td>630000</td>\n",
       "      <td>2022-08-19 00:00:00</td>\n",
       "      <td>Владивосток</td>\n",
       "      <td>https://vladivostok.drom.ru/toyota/passo/46420...</td>\n",
       "      <td>2022-08-20 06:00:00</td>\n",
       "    </tr>\n",
       "  </tbody>\n",
       "</table>\n",
       "<p>5910 rows × 8 columns</p>\n",
       "</div>"
      ],
      "text/plain": [
       "              brand        name       bodyType    price                 date  \\\n",
       "0              Fiat  124 Spider       Открытый  1830000  2022-08-20 00:00:00   \n",
       "1               BMW          i3  Хэтчбек 5 дв.  1830000  2022-08-20 00:00:00   \n",
       "2     Mercedes-Benz   GLE Coupe     Джип 5 дв.  4600000  2022-08-20 00:00:00   \n",
       "3     Mercedes-Benz     G-Class     Джип 5 дв.  2999999  2022-08-20 00:00:00   \n",
       "4              Audi          Q7     Джип 5 дв.  3300000  2022-08-20 00:00:00   \n",
       "...             ...         ...            ...      ...                  ...   \n",
       "5905         Toyota     Corolla          Седан   168000  2022-08-19 00:00:00   \n",
       "5906          Lexus       RX350     Джип 5 дв.  1200000  2022-08-19 00:00:00   \n",
       "5907          Honda     Stepwgn        Минивэн  1630000  2022-08-19 00:00:00   \n",
       "5908         Toyota        RAV4     Джип 5 дв.  2800000  2022-08-19 00:00:00   \n",
       "5909         Toyota       Passo  Хэтчбек 5 дв.   630000  2022-08-19 00:00:00   \n",
       "\n",
       "         location                                               link  \\\n",
       "0     Владивосток  https://vladivostok.drom.ru/fiat/124_spider/47...   \n",
       "1     Владивосток   https://vladivostok.drom.ru/bmw/i3/47958301.html   \n",
       "2     Владивосток  https://vladivostok.drom.ru/mercedes-benz/gle_...   \n",
       "3     Владивосток  https://vladivostok.drom.ru/mercedes-benz/g-cl...   \n",
       "4     Владивосток  https://vladivostok.drom.ru/audi/q7/46498184.html   \n",
       "...           ...                                                ...   \n",
       "5905   Партизанск  https://partizansk.drom.ru/toyota/corolla/4794...   \n",
       "5906  Владивосток  https://vladivostok.drom.ru/lexus/rx350/474271...   \n",
       "5907  Владивосток  https://vladivostok.drom.ru/honda/stepwgn/4794...   \n",
       "5908  Владивосток  https://vladivostok.drom.ru/toyota/rav4/479498...   \n",
       "5909  Владивосток  https://vladivostok.drom.ru/toyota/passo/46420...   \n",
       "\n",
       "               parse_date  \n",
       "0     2022-08-20 04:00:00  \n",
       "1     2022-08-20 04:00:00  \n",
       "2     2022-08-20 04:00:00  \n",
       "3     2022-08-20 04:00:00  \n",
       "4     2022-08-20 04:00:00  \n",
       "...                   ...  \n",
       "5905  2022-08-20 06:00:00  \n",
       "5906  2022-08-20 06:00:00  \n",
       "5907  2022-08-20 06:00:00  \n",
       "5908  2022-08-20 06:00:00  \n",
       "5909  2022-08-20 06:00:00  \n",
       "\n",
       "[5910 rows x 8 columns]"
      ]
     },
     "execution_count": 17,
     "metadata": {},
     "output_type": "execute_result"
    }
   ],
   "source": [
    "data = data.dropna(axis=1, how='any')\n",
    "data"
   ]
  },
  {
   "cell_type": "code",
   "execution_count": 18,
   "id": "069eb1d2",
   "metadata": {},
   "outputs": [
    {
     "name": "stdout",
     "output_type": "stream",
     "text": [
      "brand - object - 0\n",
      "name - object - 0\n",
      "bodyType - object - 0\n",
      "price - int64 - 0\n",
      "date - object - 0\n",
      "location - object - 0\n",
      "link - object - 0\n",
      "parse_date - object - 0\n"
     ]
    }
   ],
   "source": [
    "\n",
    "for col in data.columns:\n",
    "    null_count = data[data[col].isnull()].shape[0]\n",
    "    if null_count == 0:\n",
    "        column_type = data[col].dtype\n",
    "        print('{} - {} - {}'.format(col, column_type, null_count))"
   ]
  },
  {
   "cell_type": "code",
   "execution_count": 19,
   "id": "9dcdf920",
   "metadata": {},
   "outputs": [
    {
     "name": "stdout",
     "output_type": "stream",
     "text": [
      "brand\n",
      "name\n",
      "bodyType\n",
      "date\n",
      "location\n",
      "link\n",
      "parse_date\n"
     ]
    }
   ],
   "source": [
    "for col in data.columns:\n",
    "    column_type = data[col].dtype\n",
    "    if column_type == 'object':\n",
    "        print(col)"
   ]
  },
  {
   "cell_type": "code",
   "execution_count": 20,
   "id": "37d32c2b",
   "metadata": {},
   "outputs": [],
   "source": [
    "le1 = LabelEncoder()\n",
    "data['brand'] = le1.fit_transform(data['brand']);"
   ]
  },
  {
   "cell_type": "code",
   "execution_count": 21,
   "id": "7f4a6c99",
   "metadata": {},
   "outputs": [],
   "source": [
    "le2 = LabelEncoder()\n",
    "data['name'] = le2.fit_transform(data['name']);"
   ]
  },
  {
   "cell_type": "code",
   "execution_count": 22,
   "id": "70eed33d",
   "metadata": {},
   "outputs": [],
   "source": [
    "le3 = LabelEncoder()\n",
    "data['bodyType'] = le3.fit_transform(data['bodyType']);"
   ]
  },
  {
   "cell_type": "code",
   "execution_count": 23,
   "id": "155f1a1b",
   "metadata": {},
   "outputs": [],
   "source": [
    "le4 = LabelEncoder()\n",
    "data['date'] = le4.fit_transform(data['date']);"
   ]
  },
  {
   "cell_type": "code",
   "execution_count": 24,
   "id": "97babe3e",
   "metadata": {},
   "outputs": [],
   "source": [
    "le5 = LabelEncoder()\n",
    "data['location'] = le5.fit_transform(data['location']);"
   ]
  },
  {
   "cell_type": "code",
   "execution_count": 25,
   "id": "5065607c",
   "metadata": {},
   "outputs": [],
   "source": [
    "le6 = LabelEncoder()\n",
    "data['link'] = le6.fit_transform(data['link']);"
   ]
  },
  {
   "cell_type": "code",
   "execution_count": 26,
   "id": "95b9d7ee",
   "metadata": {},
   "outputs": [],
   "source": [
    "le7 = LabelEncoder()\n",
    "data['parse_date'] = le7.fit_transform(data['parse_date']);"
   ]
  },
  {
   "cell_type": "code",
   "execution_count": 27,
   "id": "f3657966",
   "metadata": {},
   "outputs": [],
   "source": [
    "for col in data.columns:\n",
    "    column_type = data[col].dtype\n",
    "    if column_type == 'object':\n",
    "        print(col)"
   ]
  },
  {
   "cell_type": "code",
   "execution_count": 29,
   "id": "345337ae",
   "metadata": {},
   "outputs": [],
   "source": [
    "\n",
    "from sklearn.model_selection import train_test_split\n",
    "\n",
    "data_x = data.loc[:, data.columns != 'price']\n",
    "data_y = data['price']\n",
    "\n",
    "train_x, test_x, train_y, test_y = train_test_split(data_x, data_y, test_size=0.3, random_state=1)"
   ]
  },
  {
   "cell_type": "code",
   "execution_count": 30,
   "id": "e11ed518",
   "metadata": {},
   "outputs": [
    {
     "data": {
      "text/plain": [
       "(4137, 7)"
      ]
     },
     "execution_count": 30,
     "metadata": {},
     "output_type": "execute_result"
    }
   ],
   "source": [
    "train_x.shape"
   ]
  },
  {
   "cell_type": "code",
   "execution_count": 31,
   "id": "3eabaa35",
   "metadata": {},
   "outputs": [
    {
     "data": {
      "text/plain": [
       "(1773, 7)"
      ]
     },
     "execution_count": 31,
     "metadata": {},
     "output_type": "execute_result"
    }
   ],
   "source": [
    "test_x.shape"
   ]
  },
  {
   "cell_type": "code",
   "execution_count": 32,
   "id": "0dea505c",
   "metadata": {},
   "outputs": [],
   "source": [
    "from sklearn.neighbors import KNeighborsRegressor\n",
    "from sklearn.metrics import mean_absolute_error\n",
    "from sklearn.metrics import median_absolute_error, r2_score\n",
    "\n",
    "def test_model(model):\n",
    "    print('mean_absolute_error: {}'.format(round(mean_absolute_error(test_y, model.predict(test_x)), 2)))\n",
    "    print('median_absolute_error: {}'.format(round(median_absolute_error(test_y, model.predict(test_x)), 2)))\n",
    "    print('r2_score: {}'.format(round(r2_score(test_y, model.predict(test_x)), 2)))"
   ]
  },
  {
   "cell_type": "code",
   "execution_count": 33,
   "id": "f0304f54",
   "metadata": {},
   "outputs": [
    {
     "data": {
      "text/html": [
       "<style>#sk-container-id-1 {color: black;background-color: white;}#sk-container-id-1 pre{padding: 0;}#sk-container-id-1 div.sk-toggleable {background-color: white;}#sk-container-id-1 label.sk-toggleable__label {cursor: pointer;display: block;width: 100%;margin-bottom: 0;padding: 0.3em;box-sizing: border-box;text-align: center;}#sk-container-id-1 label.sk-toggleable__label-arrow:before {content: \"▸\";float: left;margin-right: 0.25em;color: #696969;}#sk-container-id-1 label.sk-toggleable__label-arrow:hover:before {color: black;}#sk-container-id-1 div.sk-estimator:hover label.sk-toggleable__label-arrow:before {color: black;}#sk-container-id-1 div.sk-toggleable__content {max-height: 0;max-width: 0;overflow: hidden;text-align: left;background-color: #f0f8ff;}#sk-container-id-1 div.sk-toggleable__content pre {margin: 0.2em;color: black;border-radius: 0.25em;background-color: #f0f8ff;}#sk-container-id-1 input.sk-toggleable__control:checked~div.sk-toggleable__content {max-height: 200px;max-width: 100%;overflow: auto;}#sk-container-id-1 input.sk-toggleable__control:checked~label.sk-toggleable__label-arrow:before {content: \"▾\";}#sk-container-id-1 div.sk-estimator input.sk-toggleable__control:checked~label.sk-toggleable__label {background-color: #d4ebff;}#sk-container-id-1 div.sk-label input.sk-toggleable__control:checked~label.sk-toggleable__label {background-color: #d4ebff;}#sk-container-id-1 input.sk-hidden--visually {border: 0;clip: rect(1px 1px 1px 1px);clip: rect(1px, 1px, 1px, 1px);height: 1px;margin: -1px;overflow: hidden;padding: 0;position: absolute;width: 1px;}#sk-container-id-1 div.sk-estimator {font-family: monospace;background-color: #f0f8ff;border: 1px dotted black;border-radius: 0.25em;box-sizing: border-box;margin-bottom: 0.5em;}#sk-container-id-1 div.sk-estimator:hover {background-color: #d4ebff;}#sk-container-id-1 div.sk-parallel-item::after {content: \"\";width: 100%;border-bottom: 1px solid gray;flex-grow: 1;}#sk-container-id-1 div.sk-label:hover label.sk-toggleable__label {background-color: #d4ebff;}#sk-container-id-1 div.sk-serial::before {content: \"\";position: absolute;border-left: 1px solid gray;box-sizing: border-box;top: 0;bottom: 0;left: 50%;z-index: 0;}#sk-container-id-1 div.sk-serial {display: flex;flex-direction: column;align-items: center;background-color: white;padding-right: 0.2em;padding-left: 0.2em;position: relative;}#sk-container-id-1 div.sk-item {position: relative;z-index: 1;}#sk-container-id-1 div.sk-parallel {display: flex;align-items: stretch;justify-content: center;background-color: white;position: relative;}#sk-container-id-1 div.sk-item::before, #sk-container-id-1 div.sk-parallel-item::before {content: \"\";position: absolute;border-left: 1px solid gray;box-sizing: border-box;top: 0;bottom: 0;left: 50%;z-index: -1;}#sk-container-id-1 div.sk-parallel-item {display: flex;flex-direction: column;z-index: 1;position: relative;background-color: white;}#sk-container-id-1 div.sk-parallel-item:first-child::after {align-self: flex-end;width: 50%;}#sk-container-id-1 div.sk-parallel-item:last-child::after {align-self: flex-start;width: 50%;}#sk-container-id-1 div.sk-parallel-item:only-child::after {width: 0;}#sk-container-id-1 div.sk-dashed-wrapped {border: 1px dashed gray;margin: 0 0.4em 0.5em 0.4em;box-sizing: border-box;padding-bottom: 0.4em;background-color: white;}#sk-container-id-1 div.sk-label label {font-family: monospace;font-weight: bold;display: inline-block;line-height: 1.2em;}#sk-container-id-1 div.sk-label-container {text-align: center;}#sk-container-id-1 div.sk-container {/* jupyter's `normalize.less` sets `[hidden] { display: none; }` but bootstrap.min.css set `[hidden] { display: none !important; }` so we also need the `!important` here to be able to override the default hidden behavior on the sphinx rendered scikit-learn.org. See: https://github.com/scikit-learn/scikit-learn/issues/21755 */display: inline-block !important;position: relative;}#sk-container-id-1 div.sk-text-repr-fallback {display: none;}</style><div id=\"sk-container-id-1\" class=\"sk-top-container\"><div class=\"sk-text-repr-fallback\"><pre>RandomForestRegressor(n_estimators=80)</pre><b>In a Jupyter environment, please rerun this cell to show the HTML representation or trust the notebook. <br />On GitHub, the HTML representation is unable to render, please try loading this page with nbviewer.org.</b></div><div class=\"sk-container\" hidden><div class=\"sk-item\"><div class=\"sk-estimator sk-toggleable\"><input class=\"sk-toggleable__control sk-hidden--visually\" id=\"sk-estimator-id-1\" type=\"checkbox\" checked><label for=\"sk-estimator-id-1\" class=\"sk-toggleable__label sk-toggleable__label-arrow\">RandomForestRegressor</label><div class=\"sk-toggleable__content\"><pre>RandomForestRegressor(n_estimators=80)</pre></div></div></div></div></div>"
      ],
      "text/plain": [
       "RandomForestRegressor(n_estimators=80)"
      ]
     },
     "execution_count": 33,
     "metadata": {},
     "output_type": "execute_result"
    }
   ],
   "source": [
    "from sklearn.ensemble import RandomForestRegressor\n",
    "\n",
    "ran_80 = RandomForestRegressor(n_estimators=80)\n",
    "ran_80.fit(train_x, train_y)"
   ]
  },
  {
   "cell_type": "code",
   "execution_count": 34,
   "id": "e8118348",
   "metadata": {},
   "outputs": [
    {
     "name": "stdout",
     "output_type": "stream",
     "text": [
      "mean_absolute_error: 248281.05\n",
      "median_absolute_error: 104250.0\n",
      "r2_score: 0.87\n"
     ]
    }
   ],
   "source": [
    "test_model(ran_80)"
   ]
  },
  {
   "cell_type": "code",
   "execution_count": 35,
   "id": "fdbbeaf8",
   "metadata": {},
   "outputs": [
    {
     "data": {
      "text/plain": [
       "[{'n_estimators': array([ 50,  60,  70,  80,  90, 100, 110, 120, 130, 140, 150, 160])}]"
      ]
     },
     "execution_count": 35,
     "metadata": {},
     "output_type": "execute_result"
    }
   ],
   "source": [
    "param_range = np.arange(50, 170, 10)\n",
    "tuned_parameters = [{'n_estimators': param_range}]\n",
    "tuned_parameters"
   ]
  },
  {
   "cell_type": "code",
   "execution_count": 36,
   "id": "b426ec87",
   "metadata": {},
   "outputs": [
    {
     "data": {
      "text/html": [
       "<style>#sk-container-id-2 {color: black;background-color: white;}#sk-container-id-2 pre{padding: 0;}#sk-container-id-2 div.sk-toggleable {background-color: white;}#sk-container-id-2 label.sk-toggleable__label {cursor: pointer;display: block;width: 100%;margin-bottom: 0;padding: 0.3em;box-sizing: border-box;text-align: center;}#sk-container-id-2 label.sk-toggleable__label-arrow:before {content: \"▸\";float: left;margin-right: 0.25em;color: #696969;}#sk-container-id-2 label.sk-toggleable__label-arrow:hover:before {color: black;}#sk-container-id-2 div.sk-estimator:hover label.sk-toggleable__label-arrow:before {color: black;}#sk-container-id-2 div.sk-toggleable__content {max-height: 0;max-width: 0;overflow: hidden;text-align: left;background-color: #f0f8ff;}#sk-container-id-2 div.sk-toggleable__content pre {margin: 0.2em;color: black;border-radius: 0.25em;background-color: #f0f8ff;}#sk-container-id-2 input.sk-toggleable__control:checked~div.sk-toggleable__content {max-height: 200px;max-width: 100%;overflow: auto;}#sk-container-id-2 input.sk-toggleable__control:checked~label.sk-toggleable__label-arrow:before {content: \"▾\";}#sk-container-id-2 div.sk-estimator input.sk-toggleable__control:checked~label.sk-toggleable__label {background-color: #d4ebff;}#sk-container-id-2 div.sk-label input.sk-toggleable__control:checked~label.sk-toggleable__label {background-color: #d4ebff;}#sk-container-id-2 input.sk-hidden--visually {border: 0;clip: rect(1px 1px 1px 1px);clip: rect(1px, 1px, 1px, 1px);height: 1px;margin: -1px;overflow: hidden;padding: 0;position: absolute;width: 1px;}#sk-container-id-2 div.sk-estimator {font-family: monospace;background-color: #f0f8ff;border: 1px dotted black;border-radius: 0.25em;box-sizing: border-box;margin-bottom: 0.5em;}#sk-container-id-2 div.sk-estimator:hover {background-color: #d4ebff;}#sk-container-id-2 div.sk-parallel-item::after {content: \"\";width: 100%;border-bottom: 1px solid gray;flex-grow: 1;}#sk-container-id-2 div.sk-label:hover label.sk-toggleable__label {background-color: #d4ebff;}#sk-container-id-2 div.sk-serial::before {content: \"\";position: absolute;border-left: 1px solid gray;box-sizing: border-box;top: 0;bottom: 0;left: 50%;z-index: 0;}#sk-container-id-2 div.sk-serial {display: flex;flex-direction: column;align-items: center;background-color: white;padding-right: 0.2em;padding-left: 0.2em;position: relative;}#sk-container-id-2 div.sk-item {position: relative;z-index: 1;}#sk-container-id-2 div.sk-parallel {display: flex;align-items: stretch;justify-content: center;background-color: white;position: relative;}#sk-container-id-2 div.sk-item::before, #sk-container-id-2 div.sk-parallel-item::before {content: \"\";position: absolute;border-left: 1px solid gray;box-sizing: border-box;top: 0;bottom: 0;left: 50%;z-index: -1;}#sk-container-id-2 div.sk-parallel-item {display: flex;flex-direction: column;z-index: 1;position: relative;background-color: white;}#sk-container-id-2 div.sk-parallel-item:first-child::after {align-self: flex-end;width: 50%;}#sk-container-id-2 div.sk-parallel-item:last-child::after {align-self: flex-start;width: 50%;}#sk-container-id-2 div.sk-parallel-item:only-child::after {width: 0;}#sk-container-id-2 div.sk-dashed-wrapped {border: 1px dashed gray;margin: 0 0.4em 0.5em 0.4em;box-sizing: border-box;padding-bottom: 0.4em;background-color: white;}#sk-container-id-2 div.sk-label label {font-family: monospace;font-weight: bold;display: inline-block;line-height: 1.2em;}#sk-container-id-2 div.sk-label-container {text-align: center;}#sk-container-id-2 div.sk-container {/* jupyter's `normalize.less` sets `[hidden] { display: none; }` but bootstrap.min.css set `[hidden] { display: none !important; }` so we also need the `!important` here to be able to override the default hidden behavior on the sphinx rendered scikit-learn.org. See: https://github.com/scikit-learn/scikit-learn/issues/21755 */display: inline-block !important;position: relative;}#sk-container-id-2 div.sk-text-repr-fallback {display: none;}</style><div id=\"sk-container-id-2\" class=\"sk-top-container\"><div class=\"sk-text-repr-fallback\"><pre>GridSearchCV(cv=ShuffleSplit(n_splits=10, random_state=None, test_size=None, train_size=None),\n",
       "             estimator=RandomForestRegressor(), n_jobs=-1,\n",
       "             param_grid=[{&#x27;n_estimators&#x27;: array([ 50,  60,  70,  80,  90, 100, 110, 120, 130, 140, 150, 160])}],\n",
       "             return_train_score=True, scoring=&#x27;r2&#x27;)</pre><b>In a Jupyter environment, please rerun this cell to show the HTML representation or trust the notebook. <br />On GitHub, the HTML representation is unable to render, please try loading this page with nbviewer.org.</b></div><div class=\"sk-container\" hidden><div class=\"sk-item sk-dashed-wrapped\"><div class=\"sk-label-container\"><div class=\"sk-label sk-toggleable\"><input class=\"sk-toggleable__control sk-hidden--visually\" id=\"sk-estimator-id-2\" type=\"checkbox\" ><label for=\"sk-estimator-id-2\" class=\"sk-toggleable__label sk-toggleable__label-arrow\">GridSearchCV</label><div class=\"sk-toggleable__content\"><pre>GridSearchCV(cv=ShuffleSplit(n_splits=10, random_state=None, test_size=None, train_size=None),\n",
       "             estimator=RandomForestRegressor(), n_jobs=-1,\n",
       "             param_grid=[{&#x27;n_estimators&#x27;: array([ 50,  60,  70,  80,  90, 100, 110, 120, 130, 140, 150, 160])}],\n",
       "             return_train_score=True, scoring=&#x27;r2&#x27;)</pre></div></div></div><div class=\"sk-parallel\"><div class=\"sk-parallel-item\"><div class=\"sk-item\"><div class=\"sk-label-container\"><div class=\"sk-label sk-toggleable\"><input class=\"sk-toggleable__control sk-hidden--visually\" id=\"sk-estimator-id-3\" type=\"checkbox\" ><label for=\"sk-estimator-id-3\" class=\"sk-toggleable__label sk-toggleable__label-arrow\">estimator: RandomForestRegressor</label><div class=\"sk-toggleable__content\"><pre>RandomForestRegressor()</pre></div></div></div><div class=\"sk-serial\"><div class=\"sk-item\"><div class=\"sk-estimator sk-toggleable\"><input class=\"sk-toggleable__control sk-hidden--visually\" id=\"sk-estimator-id-4\" type=\"checkbox\" ><label for=\"sk-estimator-id-4\" class=\"sk-toggleable__label sk-toggleable__label-arrow\">RandomForestRegressor</label><div class=\"sk-toggleable__content\"><pre>RandomForestRegressor()</pre></div></div></div></div></div></div></div></div></div></div>"
      ],
      "text/plain": [
       "GridSearchCV(cv=ShuffleSplit(n_splits=10, random_state=None, test_size=None, train_size=None),\n",
       "             estimator=RandomForestRegressor(), n_jobs=-1,\n",
       "             param_grid=[{'n_estimators': array([ 50,  60,  70,  80,  90, 100, 110, 120, 130, 140, 150, 160])}],\n",
       "             return_train_score=True, scoring='r2')"
      ]
     },
     "execution_count": 36,
     "metadata": {},
     "output_type": "execute_result"
    }
   ],
   "source": [
    "from sklearn.model_selection import GridSearchCV\n",
    "from sklearn.model_selection import ShuffleSplit\n",
    "\n",
    "gs = GridSearchCV(RandomForestRegressor(), tuned_parameters,\n",
    "                  cv=ShuffleSplit(n_splits=10), scoring=\"r2\",\n",
    "                  return_train_score=True, n_jobs=-1)\n",
    "gs.fit(data_x, data_y)"
   ]
  },
  {
   "cell_type": "code",
   "execution_count": 40,
   "id": "6b417f17",
   "metadata": {},
   "outputs": [],
   "source": [
    "reg = gs.best_estimator_"
   ]
  },
  {
   "cell_type": "code",
   "execution_count": 37,
   "id": "2c756ace",
   "metadata": {},
   "outputs": [
    {
     "data": {
      "image/png": "[encoded data removed]",
      "text/plain": [
       "<Figure size 640x480 with 1 Axes>"
      ]
     },
     "metadata": {},
     "output_type": "display_data"
    }
   ],
   "source": [
    "import matplotlib.pyplot as plt\n",
    "\n",
    "plt.plot(param_range, gs.cv_results_[\"mean_train_score\"]);"
   ]
  },
  {
   "cell_type": "code",
   "execution_count": 38,
   "id": "c4ee0363",
   "metadata": {},
   "outputs": [
    {
     "data": {
      "image/png": "[encoded data removed]",
      "text/plain": [
       "<Figure size 640x480 with 1 Axes>"
      ]
     },
     "metadata": {},
     "output_type": "display_data"
    }
   ],
   "source": [
    "\n",
    "plt.plot(param_range, gs.cv_results_[\"mean_test_score\"]);"
   ]
  },
  {
   "cell_type": "code",
   "execution_count": 41,
   "id": "064629fc",
   "metadata": {},
   "outputs": [
    {
     "name": "stdout",
     "output_type": "stream",
     "text": [
      "mean_absolute_error: 246475.02\n",
      "median_absolute_error: 99669.23\n",
      "r2_score: 0.87\n"
     ]
    }
   ],
   "source": [
    "reg.fit(train_x, train_y)\n",
    "test_model(reg)"
   ]
  },
  {
   "cell_type": "code",
   "execution_count": 43,
   "id": "4274a391",
   "metadata": {},
   "outputs": [
    {
     "data": {
      "text/html": [
       "<style>#sk-container-id-3 {color: black;background-color: white;}#sk-container-id-3 pre{padding: 0;}#sk-container-id-3 div.sk-toggleable {background-color: white;}#sk-container-id-3 label.sk-toggleable__label {cursor: pointer;display: block;width: 100%;margin-bottom: 0;padding: 0.3em;box-sizing: border-box;text-align: center;}#sk-container-id-3 label.sk-toggleable__label-arrow:before {content: \"▸\";float: left;margin-right: 0.25em;color: #696969;}#sk-container-id-3 label.sk-toggleable__label-arrow:hover:before {color: black;}#sk-container-id-3 div.sk-estimator:hover label.sk-toggleable__label-arrow:before {color: black;}#sk-container-id-3 div.sk-toggleable__content {max-height: 0;max-width: 0;overflow: hidden;text-align: left;background-color: #f0f8ff;}#sk-container-id-3 div.sk-toggleable__content pre {margin: 0.2em;color: black;border-radius: 0.25em;background-color: #f0f8ff;}#sk-container-id-3 input.sk-toggleable__control:checked~div.sk-toggleable__content {max-height: 200px;max-width: 100%;overflow: auto;}#sk-container-id-3 input.sk-toggleable__control:checked~label.sk-toggleable__label-arrow:before {content: \"▾\";}#sk-container-id-3 div.sk-estimator input.sk-toggleable__control:checked~label.sk-toggleable__label {background-color: #d4ebff;}#sk-container-id-3 div.sk-label input.sk-toggleable__control:checked~label.sk-toggleable__label {background-color: #d4ebff;}#sk-container-id-3 input.sk-hidden--visually {border: 0;clip: rect(1px 1px 1px 1px);clip: rect(1px, 1px, 1px, 1px);height: 1px;margin: -1px;overflow: hidden;padding: 0;position: absolute;width: 1px;}#sk-container-id-3 div.sk-estimator {font-family: monospace;background-color: #f0f8ff;border: 1px dotted black;border-radius: 0.25em;box-sizing: border-box;margin-bottom: 0.5em;}#sk-container-id-3 div.sk-estimator:hover {background-color: #d4ebff;}#sk-container-id-3 div.sk-parallel-item::after {content: \"\";width: 100%;border-bottom: 1px solid gray;flex-grow: 1;}#sk-container-id-3 div.sk-label:hover label.sk-toggleable__label {background-color: #d4ebff;}#sk-container-id-3 div.sk-serial::before {content: \"\";position: absolute;border-left: 1px solid gray;box-sizing: border-box;top: 0;bottom: 0;left: 50%;z-index: 0;}#sk-container-id-3 div.sk-serial {display: flex;flex-direction: column;align-items: center;background-color: white;padding-right: 0.2em;padding-left: 0.2em;position: relative;}#sk-container-id-3 div.sk-item {position: relative;z-index: 1;}#sk-container-id-3 div.sk-parallel {display: flex;align-items: stretch;justify-content: center;background-color: white;position: relative;}#sk-container-id-3 div.sk-item::before, #sk-container-id-3 div.sk-parallel-item::before {content: \"\";position: absolute;border-left: 1px solid gray;box-sizing: border-box;top: 0;bottom: 0;left: 50%;z-index: -1;}#sk-container-id-3 div.sk-parallel-item {display: flex;flex-direction: column;z-index: 1;position: relative;background-color: white;}#sk-container-id-3 div.sk-parallel-item:first-child::after {align-self: flex-end;width: 50%;}#sk-container-id-3 div.sk-parallel-item:last-child::after {align-self: flex-start;width: 50%;}#sk-container-id-3 div.sk-parallel-item:only-child::after {width: 0;}#sk-container-id-3 div.sk-dashed-wrapped {border: 1px dashed gray;margin: 0 0.4em 0.5em 0.4em;box-sizing: border-box;padding-bottom: 0.4em;background-color: white;}#sk-container-id-3 div.sk-label label {font-family: monospace;font-weight: bold;display: inline-block;line-height: 1.2em;}#sk-container-id-3 div.sk-label-container {text-align: center;}#sk-container-id-3 div.sk-container {/* jupyter's `normalize.less` sets `[hidden] { display: none; }` but bootstrap.min.css set `[hidden] { display: none !important; }` so we also need the `!important` here to be able to override the default hidden behavior on the sphinx rendered scikit-learn.org. See: https://github.com/scikit-learn/scikit-learn/issues/21755 */display: inline-block !important;position: relative;}#sk-container-id-3 div.sk-text-repr-fallback {display: none;}</style><div id=\"sk-container-id-3\" class=\"sk-top-container\"><div class=\"sk-text-repr-fallback\"><pre>GradientBoostingRegressor(n_estimators=80)</pre><b>In a Jupyter environment, please rerun this cell to show the HTML representation or trust the notebook. <br />On GitHub, the HTML representation is unable to render, please try loading this page with nbviewer.org.</b></div><div class=\"sk-container\" hidden><div class=\"sk-item\"><div class=\"sk-estimator sk-toggleable\"><input class=\"sk-toggleable__control sk-hidden--visually\" id=\"sk-estimator-id-5\" type=\"checkbox\" checked><label for=\"sk-estimator-id-5\" class=\"sk-toggleable__label sk-toggleable__label-arrow\">GradientBoostingRegressor</label><div class=\"sk-toggleable__content\"><pre>GradientBoostingRegressor(n_estimators=80)</pre></div></div></div></div></div>"
      ],
      "text/plain": [
       "GradientBoostingRegressor(n_estimators=80)"
      ]
     },
     "execution_count": 43,
     "metadata": {},
     "output_type": "execute_result"
    }
   ],
   "source": [
    "\n",
    "from sklearn.ensemble import GradientBoostingRegressor\n",
    "\n",
    "gr_80 = GradientBoostingRegressor(n_estimators=80)\n",
    "gr_80.fit(train_x, train_y)"
   ]
  },
  {
   "cell_type": "code",
   "execution_count": 44,
   "id": "b9d52e4f",
   "metadata": {},
   "outputs": [
    {
     "name": "stdout",
     "output_type": "stream",
     "text": [
      "mean_absolute_error: 570735.49\n",
      "median_absolute_error: 353202.34\n",
      "r2_score: 0.59\n"
     ]
    }
   ],
   "source": [
    "test_model(gr_80)"
   ]
  },
  {
   "cell_type": "code",
   "execution_count": 45,
   "id": "e29e4b16",
   "metadata": {},
   "outputs": [
    {
     "data": {
      "text/html": [
       "<style>#sk-container-id-4 {color: black;background-color: white;}#sk-container-id-4 pre{padding: 0;}#sk-container-id-4 div.sk-toggleable {background-color: white;}#sk-container-id-4 label.sk-toggleable__label {cursor: pointer;display: block;width: 100%;margin-bottom: 0;padding: 0.3em;box-sizing: border-box;text-align: center;}#sk-container-id-4 label.sk-toggleable__label-arrow:before {content: \"▸\";float: left;margin-right: 0.25em;color: #696969;}#sk-container-id-4 label.sk-toggleable__label-arrow:hover:before {color: black;}#sk-container-id-4 div.sk-estimator:hover label.sk-toggleable__label-arrow:before {color: black;}#sk-container-id-4 div.sk-toggleable__content {max-height: 0;max-width: 0;overflow: hidden;text-align: left;background-color: #f0f8ff;}#sk-container-id-4 div.sk-toggleable__content pre {margin: 0.2em;color: black;border-radius: 0.25em;background-color: #f0f8ff;}#sk-container-id-4 input.sk-toggleable__control:checked~div.sk-toggleable__content {max-height: 200px;max-width: 100%;overflow: auto;}#sk-container-id-4 input.sk-toggleable__control:checked~label.sk-toggleable__label-arrow:before {content: \"▾\";}#sk-container-id-4 div.sk-estimator input.sk-toggleable__control:checked~label.sk-toggleable__label {background-color: #d4ebff;}#sk-container-id-4 div.sk-label input.sk-toggleable__control:checked~label.sk-toggleable__label {background-color: #d4ebff;}#sk-container-id-4 input.sk-hidden--visually {border: 0;clip: rect(1px 1px 1px 1px);clip: rect(1px, 1px, 1px, 1px);height: 1px;margin: -1px;overflow: hidden;padding: 0;position: absolute;width: 1px;}#sk-container-id-4 div.sk-estimator {font-family: monospace;background-color: #f0f8ff;border: 1px dotted black;border-radius: 0.25em;box-sizing: border-box;margin-bottom: 0.5em;}#sk-container-id-4 div.sk-estimator:hover {background-color: #d4ebff;}#sk-container-id-4 div.sk-parallel-item::after {content: \"\";width: 100%;border-bottom: 1px solid gray;flex-grow: 1;}#sk-container-id-4 div.sk-label:hover label.sk-toggleable__label {background-color: #d4ebff;}#sk-container-id-4 div.sk-serial::before {content: \"\";position: absolute;border-left: 1px solid gray;box-sizing: border-box;top: 0;bottom: 0;left: 50%;z-index: 0;}#sk-container-id-4 div.sk-serial {display: flex;flex-direction: column;align-items: center;background-color: white;padding-right: 0.2em;padding-left: 0.2em;position: relative;}#sk-container-id-4 div.sk-item {position: relative;z-index: 1;}#sk-container-id-4 div.sk-parallel {display: flex;align-items: stretch;justify-content: center;background-color: white;position: relative;}#sk-container-id-4 div.sk-item::before, #sk-container-id-4 div.sk-parallel-item::before {content: \"\";position: absolute;border-left: 1px solid gray;box-sizing: border-box;top: 0;bottom: 0;left: 50%;z-index: -1;}#sk-container-id-4 div.sk-parallel-item {display: flex;flex-direction: column;z-index: 1;position: relative;background-color: white;}#sk-container-id-4 div.sk-parallel-item:first-child::after {align-self: flex-end;width: 50%;}#sk-container-id-4 div.sk-parallel-item:last-child::after {align-self: flex-start;width: 50%;}#sk-container-id-4 div.sk-parallel-item:only-child::after {width: 0;}#sk-container-id-4 div.sk-dashed-wrapped {border: 1px dashed gray;margin: 0 0.4em 0.5em 0.4em;box-sizing: border-box;padding-bottom: 0.4em;background-color: white;}#sk-container-id-4 div.sk-label label {font-family: monospace;font-weight: bold;display: inline-block;line-height: 1.2em;}#sk-container-id-4 div.sk-label-container {text-align: center;}#sk-container-id-4 div.sk-container {/* jupyter's `normalize.less` sets `[hidden] { display: none; }` but bootstrap.min.css set `[hidden] { display: none !important; }` so we also need the `!important` here to be able to override the default hidden behavior on the sphinx rendered scikit-learn.org. See: https://github.com/scikit-learn/scikit-learn/issues/21755 */display: inline-block !important;position: relative;}#sk-container-id-4 div.sk-text-repr-fallback {display: none;}</style><div id=\"sk-container-id-4\" class=\"sk-top-container\"><div class=\"sk-text-repr-fallback\"><pre>GridSearchCV(cv=ShuffleSplit(n_splits=10, random_state=None, test_size=None, train_size=None),\n",
       "             estimator=GradientBoostingRegressor(), n_jobs=-1,\n",
       "             param_grid=[{&#x27;n_estimators&#x27;: array([ 50,  60,  70,  80,  90, 100, 110, 120, 130, 140, 150, 160])}],\n",
       "             return_train_score=True, scoring=&#x27;r2&#x27;)</pre><b>In a Jupyter environment, please rerun this cell to show the HTML representation or trust the notebook. <br />On GitHub, the HTML representation is unable to render, please try loading this page with nbviewer.org.</b></div><div class=\"sk-container\" hidden><div class=\"sk-item sk-dashed-wrapped\"><div class=\"sk-label-container\"><div class=\"sk-label sk-toggleable\"><input class=\"sk-toggleable__control sk-hidden--visually\" id=\"sk-estimator-id-6\" type=\"checkbox\" ><label for=\"sk-estimator-id-6\" class=\"sk-toggleable__label sk-toggleable__label-arrow\">GridSearchCV</label><div class=\"sk-toggleable__content\"><pre>GridSearchCV(cv=ShuffleSplit(n_splits=10, random_state=None, test_size=None, train_size=None),\n",
       "             estimator=GradientBoostingRegressor(), n_jobs=-1,\n",
       "             param_grid=[{&#x27;n_estimators&#x27;: array([ 50,  60,  70,  80,  90, 100, 110, 120, 130, 140, 150, 160])}],\n",
       "             return_train_score=True, scoring=&#x27;r2&#x27;)</pre></div></div></div><div class=\"sk-parallel\"><div class=\"sk-parallel-item\"><div class=\"sk-item\"><div class=\"sk-label-container\"><div class=\"sk-label sk-toggleable\"><input class=\"sk-toggleable__control sk-hidden--visually\" id=\"sk-estimator-id-7\" type=\"checkbox\" ><label for=\"sk-estimator-id-7\" class=\"sk-toggleable__label sk-toggleable__label-arrow\">estimator: GradientBoostingRegressor</label><div class=\"sk-toggleable__content\"><pre>GradientBoostingRegressor()</pre></div></div></div><div class=\"sk-serial\"><div class=\"sk-item\"><div class=\"sk-estimator sk-toggleable\"><input class=\"sk-toggleable__control sk-hidden--visually\" id=\"sk-estimator-id-8\" type=\"checkbox\" ><label for=\"sk-estimator-id-8\" class=\"sk-toggleable__label sk-toggleable__label-arrow\">GradientBoostingRegressor</label><div class=\"sk-toggleable__content\"><pre>GradientBoostingRegressor()</pre></div></div></div></div></div></div></div></div></div></div>"
      ],
      "text/plain": [
       "GridSearchCV(cv=ShuffleSplit(n_splits=10, random_state=None, test_size=None, train_size=None),\n",
       "             estimator=GradientBoostingRegressor(), n_jobs=-1,\n",
       "             param_grid=[{'n_estimators': array([ 50,  60,  70,  80,  90, 100, 110, 120, 130, 140, 150, 160])}],\n",
       "             return_train_score=True, scoring='r2')"
      ]
     },
     "execution_count": 45,
     "metadata": {},
     "output_type": "execute_result"
    }
   ],
   "source": [
    "gs = GridSearchCV(GradientBoostingRegressor(), tuned_parameters,\n",
    "                  cv=ShuffleSplit(n_splits=10), scoring=\"r2\",\n",
    "                  return_train_score=True, n_jobs=-1)\n",
    "gs.fit(data_x, data_y)"
   ]
  },
  {
   "cell_type": "code",
   "execution_count": 46,
   "id": "d9f206d6",
   "metadata": {},
   "outputs": [],
   "source": [
    "reg = gs.best_estimator_"
   ]
  },
  {
   "cell_type": "code",
   "execution_count": 47,
   "id": "56a1fb02",
   "metadata": {},
   "outputs": [
    {
     "data": {
      "image/png": "[encoded data removed]",
      "text/plain": [
       "<Figure size 640x480 with 1 Axes>"
      ]
     },
     "metadata": {},
     "output_type": "display_data"
    }
   ],
   "source": [
    "\n",
    "plt.plot(param_range, gs.cv_results_[\"mean_train_score\"]);"
   ]
  },
  {
   "cell_type": "code",
   "execution_count": 48,
   "id": "71b6df5a",
   "metadata": {},
   "outputs": [
    {
     "data": {
      "image/png": "[encoded data removed]",
      "text/plain": [
       "<Figure size 640x480 with 1 Axes>"
      ]
     },
     "metadata": {},
     "output_type": "display_data"
    }
   ],
   "source": [
    "\n",
    "plt.plot(param_range, gs.cv_results_[\"mean_test_score\"]);"
   ]
  },
  {
   "cell_type": "code",
   "execution_count": 49,
   "id": "1cca9f58",
   "metadata": {},
   "outputs": [
    {
     "name": "stdout",
     "output_type": "stream",
     "text": [
      "mean_absolute_error: 516143.9\n",
      "median_absolute_error: 298740.75\n",
      "r2_score: 0.67\n"
     ]
    }
   ],
   "source": [
    "reg.fit(train_x, train_y)\n",
    "test_model(reg)"
   ]
  }
 ],
 "metadata": {
  "kernelspec": {
   "display_name": "Python 3 (ipykernel)",
   "language": "python",
   "name": "python3"
  },
  "language_info": {
   "codemirror_mode": {
    "name": "ipython",
    "version": 3
   },
   "file_extension": ".py",
   "mimetype": "text/x-python",
   "name": "python",
   "nbconvert_exporter": "python",
   "pygments_lexer": "ipython3",
   "version": "3.11.1"
  }
 },
 "nbformat": 4,
 "nbformat_minor": 5
}
