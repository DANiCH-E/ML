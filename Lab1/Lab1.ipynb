{
 "cells": [
  {
   "cell_type": "code",
   "execution_count": 1,
   "id": "b75a61df",
   "metadata": {},
   "outputs": [],
   "source": [
    "import pandas as pd\n",
    "import matplotlib.pyplot as plt\n",
    "import seaborn as sns\n",
    "import numpy as np"
   ]
  },
  {
   "cell_type": "code",
   "execution_count": 2,
   "id": "b69a3d5f",
   "metadata": {},
   "outputs": [],
   "source": [
    "df = pd.read_csv('Highest Holywood Grossing Movies.csv')"
   ]
  },
  {
   "cell_type": "code",
   "execution_count": 3,
   "id": "74319172",
   "metadata": {},
   "outputs": [
    {
     "data": {
      "text/plain": "   Unnamed: 0                                              Title  \\\n0           0  Star Wars: Episode VII - The Force Awakens (2015)   \n1           1                           Avengers: Endgame (2019)   \n2           2                                      Avatar (2009)   \n3           3                               Black Panther (2018)   \n4           4                      Avengers: Infinity War (2018)   \n\n                                          Movie Info  \\\n0  As a new threat to the galaxy rises, Rey, a de...   \n1  After the devastating events of Avengers: Infi...   \n2  A paraplegic Marine dispatched to the moon Pan...   \n3  T'Challa, heir to the hidden but advanced king...   \n4  The Avengers and their allies must be willing ...   \n\n                           Distributor       Release Date  \\\n0  Walt Disney Studios Motion Pictures  December 16, 2015   \n1  Walt Disney Studios Motion Pictures     April 24, 2019   \n2                Twentieth Century Fox  December 16, 2009   \n3  Walt Disney Studios Motion Pictures                NaN   \n4  Walt Disney Studios Motion Pictures                NaN   \n\n   Domestic Sales (in $)  International Sales (in $)  World Sales (in $)  \\\n0              936662225                  1132859475          2069521700   \n1              858373000                  1939128328          2797501328   \n2              760507625                  2086738578          2847246203   \n3              700426566                   647171407          1347597973   \n4              678815482                  1369544272          2048359754   \n\n                                          Genre Movie Runtime License  \n0             ['Action', 'Adventure', 'Sci-Fi']   2 hr 18 min   PG-13  \n1    ['Action', 'Adventure', 'Drama', 'Sci-Fi']    3 hr 1 min   PG-13  \n2  ['Action', 'Adventure', 'Fantasy', 'Sci-Fi']   2 hr 42 min   PG-13  \n3             ['Action', 'Adventure', 'Sci-Fi']   2 hr 14 min     NaN  \n4             ['Action', 'Adventure', 'Sci-Fi']   2 hr 29 min     NaN  ",
      "text/html": "<div>\n<style scoped>\n    .dataframe tbody tr th:only-of-type {\n        vertical-align: middle;\n    }\n\n    .dataframe tbody tr th {\n        vertical-align: top;\n    }\n\n    .dataframe thead th {\n        text-align: right;\n    }\n</style>\n<table border=\"1\" class=\"dataframe\">\n  <thead>\n    <tr style=\"text-align: right;\">\n      <th></th>\n      <th>Unnamed: 0</th>\n      <th>Title</th>\n      <th>Movie Info</th>\n      <th>Distributor</th>\n      <th>Release Date</th>\n      <th>Domestic Sales (in $)</th>\n      <th>International Sales (in $)</th>\n      <th>World Sales (in $)</th>\n      <th>Genre</th>\n      <th>Movie Runtime</th>\n      <th>License</th>\n    </tr>\n  </thead>\n  <tbody>\n    <tr>\n      <th>0</th>\n      <td>0</td>\n      <td>Star Wars: Episode VII - The Force Awakens (2015)</td>\n      <td>As a new threat to the galaxy rises, Rey, a de...</td>\n      <td>Walt Disney Studios Motion Pictures</td>\n      <td>December 16, 2015</td>\n      <td>936662225</td>\n      <td>1132859475</td>\n      <td>2069521700</td>\n      <td>['Action', 'Adventure', 'Sci-Fi']</td>\n      <td>2 hr 18 min</td>\n      <td>PG-13</td>\n    </tr>\n    <tr>\n      <th>1</th>\n      <td>1</td>\n      <td>Avengers: Endgame (2019)</td>\n      <td>After the devastating events of Avengers: Infi...</td>\n      <td>Walt Disney Studios Motion Pictures</td>\n      <td>April 24, 2019</td>\n      <td>858373000</td>\n      <td>1939128328</td>\n      <td>2797501328</td>\n      <td>['Action', 'Adventure', 'Drama', 'Sci-Fi']</td>\n      <td>3 hr 1 min</td>\n      <td>PG-13</td>\n    </tr>\n    <tr>\n      <th>2</th>\n      <td>2</td>\n      <td>Avatar (2009)</td>\n      <td>A paraplegic Marine dispatched to the moon Pan...</td>\n      <td>Twentieth Century Fox</td>\n      <td>December 16, 2009</td>\n      <td>760507625</td>\n      <td>2086738578</td>\n      <td>2847246203</td>\n      <td>['Action', 'Adventure', 'Fantasy', 'Sci-Fi']</td>\n      <td>2 hr 42 min</td>\n      <td>PG-13</td>\n    </tr>\n    <tr>\n      <th>3</th>\n      <td>3</td>\n      <td>Black Panther (2018)</td>\n      <td>T'Challa, heir to the hidden but advanced king...</td>\n      <td>Walt Disney Studios Motion Pictures</td>\n      <td>NaN</td>\n      <td>700426566</td>\n      <td>647171407</td>\n      <td>1347597973</td>\n      <td>['Action', 'Adventure', 'Sci-Fi']</td>\n      <td>2 hr 14 min</td>\n      <td>NaN</td>\n    </tr>\n    <tr>\n      <th>4</th>\n      <td>4</td>\n      <td>Avengers: Infinity War (2018)</td>\n      <td>The Avengers and their allies must be willing ...</td>\n      <td>Walt Disney Studios Motion Pictures</td>\n      <td>NaN</td>\n      <td>678815482</td>\n      <td>1369544272</td>\n      <td>2048359754</td>\n      <td>['Action', 'Adventure', 'Sci-Fi']</td>\n      <td>2 hr 29 min</td>\n      <td>NaN</td>\n    </tr>\n  </tbody>\n</table>\n</div>"
     },
     "execution_count": 3,
     "metadata": {},
     "output_type": "execute_result"
    }
   ],
   "source": [
    "df.head()"
   ]
  },
  {
   "cell_type": "code",
   "execution_count": 4,
   "id": "1a5c46a3",
   "metadata": {},
   "outputs": [
    {
     "name": "stdout",
     "output_type": "stream",
     "text": [
      "<class 'pandas.core.frame.DataFrame'>\n",
      "RangeIndex: 918 entries, 0 to 917\n",
      "Data columns (total 11 columns):\n",
      " #   Column                      Non-Null Count  Dtype \n",
      "---  ------                      --------------  ----- \n",
      " 0   Unnamed: 0                  918 non-null    int64 \n",
      " 1   Title                       918 non-null    object\n",
      " 2   Movie Info                  918 non-null    object\n",
      " 3   Distributor                 918 non-null    object\n",
      " 4   Release Date                800 non-null    object\n",
      " 5   Domestic Sales (in $)       918 non-null    int64 \n",
      " 6   International Sales (in $)  918 non-null    int64 \n",
      " 7   World Sales (in $)          918 non-null    int64 \n",
      " 8   Genre                       918 non-null    object\n",
      " 9   Movie Runtime               918 non-null    object\n",
      " 10  License                     744 non-null    object\n",
      "dtypes: int64(4), object(7)\n",
      "memory usage: 79.0+ KB\n"
     ]
    }
   ],
   "source": [
    "df.info()"
   ]
  },
  {
   "cell_type": "code",
   "execution_count": 5,
   "id": "88f27138",
   "metadata": {},
   "outputs": [
    {
     "data": {
      "text/plain": "                            count          mean           std         min  \\\nUnnamed: 0                  918.0  4.585000e+02  2.651481e+02         0.0   \nDomestic Sales (in $)       918.0  1.677469e+08  1.040360e+08  80360843.0   \nInternational Sales (in $)  918.0  2.301434e+08  2.176011e+08       260.0   \nWorld Sales (in $)          918.0  3.968668e+08  3.082629e+08  81600000.0   \n\n                                     25%          50%           75%  \\\nUnnamed: 0                  2.292500e+02        458.5  6.877500e+02   \nDomestic Sales (in $)       1.016071e+08  132135096.0  1.913905e+08   \nInternational Sales (in $)  8.845620e+07  163881928.0  2.885577e+08   \nWorld Sales (in $)          2.005564e+08  301941607.0  4.750718e+08   \n\n                                     max  \nUnnamed: 0                  9.170000e+02  \nDomestic Sales (in $)       9.366622e+08  \nInternational Sales (in $)  2.086739e+09  \nWorld Sales (in $)          2.847246e+09  ",
      "text/html": "<div>\n<style scoped>\n    .dataframe tbody tr th:only-of-type {\n        vertical-align: middle;\n    }\n\n    .dataframe tbody tr th {\n        vertical-align: top;\n    }\n\n    .dataframe thead th {\n        text-align: right;\n    }\n</style>\n<table border=\"1\" class=\"dataframe\">\n  <thead>\n    <tr style=\"text-align: right;\">\n      <th></th>\n      <th>count</th>\n      <th>mean</th>\n      <th>std</th>\n      <th>min</th>\n      <th>25%</th>\n      <th>50%</th>\n      <th>75%</th>\n      <th>max</th>\n    </tr>\n  </thead>\n  <tbody>\n    <tr>\n      <th>Unnamed: 0</th>\n      <td>918.0</td>\n      <td>4.585000e+02</td>\n      <td>2.651481e+02</td>\n      <td>0.0</td>\n      <td>2.292500e+02</td>\n      <td>458.5</td>\n      <td>6.877500e+02</td>\n      <td>9.170000e+02</td>\n    </tr>\n    <tr>\n      <th>Domestic Sales (in $)</th>\n      <td>918.0</td>\n      <td>1.677469e+08</td>\n      <td>1.040360e+08</td>\n      <td>80360843.0</td>\n      <td>1.016071e+08</td>\n      <td>132135096.0</td>\n      <td>1.913905e+08</td>\n      <td>9.366622e+08</td>\n    </tr>\n    <tr>\n      <th>International Sales (in $)</th>\n      <td>918.0</td>\n      <td>2.301434e+08</td>\n      <td>2.176011e+08</td>\n      <td>260.0</td>\n      <td>8.845620e+07</td>\n      <td>163881928.0</td>\n      <td>2.885577e+08</td>\n      <td>2.086739e+09</td>\n    </tr>\n    <tr>\n      <th>World Sales (in $)</th>\n      <td>918.0</td>\n      <td>3.968668e+08</td>\n      <td>3.082629e+08</td>\n      <td>81600000.0</td>\n      <td>2.005564e+08</td>\n      <td>301941607.0</td>\n      <td>4.750718e+08</td>\n      <td>2.847246e+09</td>\n    </tr>\n  </tbody>\n</table>\n</div>"
     },
     "execution_count": 5,
     "metadata": {},
     "output_type": "execute_result"
    }
   ],
   "source": [
    "df.describe().T"
   ]
  },
  {
   "cell_type": "code",
   "execution_count": 6,
   "id": "634c9048",
   "metadata": {},
   "outputs": [
    {
     "data": {
      "text/plain": "Unnamed: 0                      0\nTitle                           0\nMovie Info                      0\nDistributor                     0\nRelease Date                  118\nDomestic Sales (in $)           0\nInternational Sales (in $)      0\nWorld Sales (in $)              0\nGenre                           0\nMovie Runtime                   0\nLicense                       174\ndtype: int64"
     },
     "execution_count": 6,
     "metadata": {},
     "output_type": "execute_result"
    }
   ],
   "source": [
    "df.isna().sum()"
   ]
  },
  {
   "cell_type": "code",
   "execution_count": 7,
   "id": "186a872e",
   "metadata": {},
   "outputs": [],
   "source": [
    "df = df.dropna()"
   ]
  },
  {
   "cell_type": "code",
   "execution_count": 8,
   "id": "b72aca20",
   "metadata": {},
   "outputs": [
    {
     "name": "stdout",
     "output_type": "stream",
     "text": [
      "<class 'pandas.core.frame.DataFrame'>\n",
      "Int64Index: 744 entries, 0 to 917\n",
      "Data columns (total 11 columns):\n",
      " #   Column                      Non-Null Count  Dtype \n",
      "---  ------                      --------------  ----- \n",
      " 0   Unnamed: 0                  744 non-null    int64 \n",
      " 1   Title                       744 non-null    object\n",
      " 2   Movie Info                  744 non-null    object\n",
      " 3   Distributor                 744 non-null    object\n",
      " 4   Release Date                744 non-null    object\n",
      " 5   Domestic Sales (in $)       744 non-null    int64 \n",
      " 6   International Sales (in $)  744 non-null    int64 \n",
      " 7   World Sales (in $)          744 non-null    int64 \n",
      " 8   Genre                       744 non-null    object\n",
      " 9   Movie Runtime               744 non-null    object\n",
      " 10  License                     744 non-null    object\n",
      "dtypes: int64(4), object(7)\n",
      "memory usage: 69.8+ KB\n"
     ]
    }
   ],
   "source": [
    "df.info()"
   ]
  },
  {
   "cell_type": "code",
   "execution_count": 9,
   "id": "85e8070c",
   "metadata": {},
   "outputs": [
    {
     "data": {
      "text/plain": "Index(['Unnamed: 0', 'Title', 'Movie Info', 'Distributor', 'Release Date',\n       'Domestic Sales (in $)', 'International Sales (in $)',\n       'World Sales (in $)', 'Genre', 'Movie Runtime', 'License'],\n      dtype='object')"
     },
     "execution_count": 9,
     "metadata": {},
     "output_type": "execute_result"
    }
   ],
   "source": [
    "df.columns"
   ]
  },
  {
   "cell_type": "code",
   "execution_count": 10,
   "id": "a28bc9bb",
   "metadata": {},
   "outputs": [
    {
     "data": {
      "text/plain": "Index(['Title', 'Distributor', 'Release Date', 'Domestic Sales (in $)',\n       'International Sales (in $)', 'World Sales (in $)', 'Genre',\n       'Movie Runtime', 'License'],\n      dtype='object')"
     },
     "execution_count": 10,
     "metadata": {},
     "output_type": "execute_result"
    }
   ],
   "source": [
    "df = df.drop(columns=['Unnamed: 0', 'Movie Info'])\n",
    "df.columns"
   ]
  },
  {
   "cell_type": "code",
   "execution_count": 11,
   "id": "3ef9ee95",
   "metadata": {},
   "outputs": [
    {
     "data": {
      "text/plain": "0"
     },
     "execution_count": 11,
     "metadata": {},
     "output_type": "execute_result"
    }
   ],
   "source": [
    "df.duplicated().sum()"
   ]
  },
  {
   "cell_type": "code",
   "execution_count": 12,
   "id": "39c5c21d",
   "metadata": {},
   "outputs": [
    {
     "name": "stdout",
     "output_type": "stream",
     "text": [
      "Machine parameters for uint8\n",
      "---------------------------------------------------------------\n",
      "min = 0\n",
      "max = 255\n",
      "---------------------------------------------------------------\n",
      "\n",
      "Machine parameters for int8\n",
      "---------------------------------------------------------------\n",
      "min = -128\n",
      "max = 127\n",
      "---------------------------------------------------------------\n",
      "\n",
      "Machine parameters for int16\n",
      "---------------------------------------------------------------\n",
      "min = -32768\n",
      "max = 32767\n",
      "---------------------------------------------------------------\n",
      "\n"
     ]
    }
   ],
   "source": [
    "int_types = [\"uint8\", \"int8\", \"int16\"]\n",
    "for it in int_types:\n",
    "    print(np.iinfo(it))"
   ]
  },
  {
   "cell_type": "code",
   "execution_count": 13,
   "id": "a13a42ab",
   "metadata": {},
   "outputs": [
    {
     "name": "stdout",
     "output_type": "stream",
     "text": [
      "<class 'pandas.core.frame.DataFrame'>\n",
      "Int64Index: 744 entries, 0 to 917\n",
      "Data columns (total 9 columns):\n",
      " #   Column                      Non-Null Count  Dtype \n",
      "---  ------                      --------------  ----- \n",
      " 0   Title                       744 non-null    object\n",
      " 1   Distributor                 744 non-null    object\n",
      " 2   Release Date                744 non-null    object\n",
      " 3   Domestic Sales (in $)       744 non-null    int64 \n",
      " 4   International Sales (in $)  744 non-null    int64 \n",
      " 5   World Sales (in $)          744 non-null    int64 \n",
      " 6   Genre                       744 non-null    object\n",
      " 7   Movie Runtime               744 non-null    object\n",
      " 8   License                     744 non-null    object\n",
      "dtypes: int64(3), object(6)\n",
      "memory usage: 352.0 KB\n"
     ]
    }
   ],
   "source": [
    "df.info(memory_usage='deep')"
   ]
  },
  {
   "cell_type": "code",
   "execution_count": 14,
   "id": "924c4e0e",
   "metadata": {},
   "outputs": [
    {
     "name": "stdout",
     "output_type": "stream",
     "text": [
      "Average memory usage for float columns: 5.812 KB\n",
      "Average memory usage for int columns: 5.812 KB\n",
      "Average memory usage for object columns: 47.791 KB\n"
     ]
    }
   ],
   "source": [
    "for dtype in ['float','int','object']:\n",
    "    selected_dtype = df.select_dtypes(include=[dtype])\n",
    "    mean_usage_b = selected_dtype.memory_usage(deep=True).mean()\n",
    "    mean_usage_mb = mean_usage_b / 1024\n",
    "    print(\"Average memory usage for {} columns: {:03.3f} KB\".format(dtype,mean_usage_mb))"
   ]
  },
  {
   "cell_type": "code",
   "execution_count": 15,
   "id": "d8df85be",
   "metadata": {},
   "outputs": [],
   "source": [
    "def mem_usage(pandas_obj):\n",
    "    if isinstance(pandas_obj,pd.DataFrame):\n",
    "        usage_b = pandas_obj.memory_usage(deep=True).sum()\n",
    "    else:\n",
    "        usage_b = pandas_obj.memory_usage(deep=True)\n",
    "    usage_mb = usage_b / 1024 # преобразуем байты в килобайты\n",
    "    return \"{:03.3f} KB\".format(usage_mb)"
   ]
  },
  {
   "cell_type": "code",
   "execution_count": 16,
   "id": "bf63fc5d",
   "metadata": {},
   "outputs": [
    {
     "name": "stdout",
     "output_type": "stream",
     "text": [
      "23.250 KB\n",
      "14.531 KB\n"
     ]
    },
    {
     "data": {
      "text/plain": "        before  after\nuint32     NaN    3.0\nint64      3.0    NaN",
      "text/html": "<div>\n<style scoped>\n    .dataframe tbody tr th:only-of-type {\n        vertical-align: middle;\n    }\n\n    .dataframe tbody tr th {\n        vertical-align: top;\n    }\n\n    .dataframe thead th {\n        text-align: right;\n    }\n</style>\n<table border=\"1\" class=\"dataframe\">\n  <thead>\n    <tr style=\"text-align: right;\">\n      <th></th>\n      <th>before</th>\n      <th>after</th>\n    </tr>\n  </thead>\n  <tbody>\n    <tr>\n      <th>uint32</th>\n      <td>NaN</td>\n      <td>3.0</td>\n    </tr>\n    <tr>\n      <th>int64</th>\n      <td>3.0</td>\n      <td>NaN</td>\n    </tr>\n  </tbody>\n</table>\n</div>"
     },
     "execution_count": 16,
     "metadata": {},
     "output_type": "execute_result"
    }
   ],
   "source": [
    "df_int = df.select_dtypes(include=['int'])\n",
    "converted_int = df_int.apply(pd.to_numeric,downcast='unsigned')\n",
    "\n",
    "print(mem_usage(df_int))\n",
    "print(mem_usage(converted_int))\n",
    "\n",
    "compare_ints = pd.concat([df_int.dtypes,converted_int.dtypes],axis=1)\n",
    "compare_ints.columns = ['before','after']\n",
    "compare_ints.apply(pd.Series.value_counts)"
   ]
  },
  {
   "cell_type": "code",
   "execution_count": 17,
   "id": "a8095885",
   "metadata": {},
   "outputs": [
    {
     "name": "stdout",
     "output_type": "stream",
     "text": [
      "5.812 KB\n",
      "5.812 KB\n"
     ]
    },
    {
     "data": {
      "text/plain": "Empty DataFrame\nColumns: [before, after]\nIndex: []",
      "text/html": "<div>\n<style scoped>\n    .dataframe tbody tr th:only-of-type {\n        vertical-align: middle;\n    }\n\n    .dataframe tbody tr th {\n        vertical-align: top;\n    }\n\n    .dataframe thead th {\n        text-align: right;\n    }\n</style>\n<table border=\"1\" class=\"dataframe\">\n  <thead>\n    <tr style=\"text-align: right;\">\n      <th></th>\n      <th>before</th>\n      <th>after</th>\n    </tr>\n  </thead>\n  <tbody>\n  </tbody>\n</table>\n</div>"
     },
     "execution_count": 17,
     "metadata": {},
     "output_type": "execute_result"
    }
   ],
   "source": [
    "df_float = df.select_dtypes(include=['float'])\n",
    "converted_float = df_float.apply(pd.to_numeric,downcast='float')\n",
    "\n",
    "print(mem_usage(df_float))\n",
    "print(mem_usage(converted_float))\n",
    "\n",
    "compare_floats = pd.concat([df_float.dtypes,converted_float.dtypes],axis=1)\n",
    "compare_floats.columns = ['before','after']\n",
    "compare_floats.apply(pd.Series.value_counts)"
   ]
  },
  {
   "cell_type": "code",
   "execution_count": 18,
   "id": "1343666f",
   "metadata": {},
   "outputs": [
    {
     "name": "stdout",
     "output_type": "stream",
     "text": [
      "351.975 KB\n",
      "343.256 KB\n"
     ]
    }
   ],
   "source": [
    "optimized_df = df.copy()\n",
    "\n",
    "optimized_df[converted_int.columns] = converted_int\n",
    "optimized_df[converted_float.columns] = converted_float\n",
    "\n",
    "print(mem_usage(df))\n",
    "print(mem_usage(optimized_df))"
   ]
  },
  {
   "cell_type": "code",
   "execution_count": 19,
   "id": "42a6aa43",
   "metadata": {},
   "outputs": [
    {
     "data": {
      "text/plain": "              count unique                                                top  \\\nTitle           744    744  Star Wars: Episode VII - The Force Awakens (2015)   \nDistributor     744     31                                       Warner Bros.   \nRelease Date    744    694                                     March 20, 2014   \nGenre           744    257                  ['Action', 'Adventure', 'Sci-Fi']   \nMovie Runtime   744     97                                        1 hr 55 min   \nLicense         744      4                                              PG-13   \n\n              freq  \nTitle            1  \nDistributor    126  \nRelease Date     3  \nGenre           51  \nMovie Runtime   21  \nLicense        363  ",
      "text/html": "<div>\n<style scoped>\n    .dataframe tbody tr th:only-of-type {\n        vertical-align: middle;\n    }\n\n    .dataframe tbody tr th {\n        vertical-align: top;\n    }\n\n    .dataframe thead th {\n        text-align: right;\n    }\n</style>\n<table border=\"1\" class=\"dataframe\">\n  <thead>\n    <tr style=\"text-align: right;\">\n      <th></th>\n      <th>count</th>\n      <th>unique</th>\n      <th>top</th>\n      <th>freq</th>\n    </tr>\n  </thead>\n  <tbody>\n    <tr>\n      <th>Title</th>\n      <td>744</td>\n      <td>744</td>\n      <td>Star Wars: Episode VII - The Force Awakens (2015)</td>\n      <td>1</td>\n    </tr>\n    <tr>\n      <th>Distributor</th>\n      <td>744</td>\n      <td>31</td>\n      <td>Warner Bros.</td>\n      <td>126</td>\n    </tr>\n    <tr>\n      <th>Release Date</th>\n      <td>744</td>\n      <td>694</td>\n      <td>March 20, 2014</td>\n      <td>3</td>\n    </tr>\n    <tr>\n      <th>Genre</th>\n      <td>744</td>\n      <td>257</td>\n      <td>['Action', 'Adventure', 'Sci-Fi']</td>\n      <td>51</td>\n    </tr>\n    <tr>\n      <th>Movie Runtime</th>\n      <td>744</td>\n      <td>97</td>\n      <td>1 hr 55 min</td>\n      <td>21</td>\n    </tr>\n    <tr>\n      <th>License</th>\n      <td>744</td>\n      <td>4</td>\n      <td>PG-13</td>\n      <td>363</td>\n    </tr>\n  </tbody>\n</table>\n</div>"
     },
     "execution_count": 19,
     "metadata": {},
     "output_type": "execute_result"
    }
   ],
   "source": [
    "df_obj = df.select_dtypes(include=['object']).copy()\n",
    "df_obj.describe().T"
   ]
  },
  {
   "cell_type": "code",
   "execution_count": 20,
   "id": "45e2a95f",
   "metadata": {},
   "outputs": [],
   "source": [
    "converted_obj = pd.DataFrame()\n",
    "for col in df_obj.columns:\n",
    "    num_unique_values = len(df_obj[col].unique())\n",
    "    num_total_values = len(df_obj[col])\n",
    "    if num_unique_values / num_total_values < 0.5:\n",
    "        converted_obj.loc[:,col] = df_obj[col].astype('category')\n",
    "    else:\n",
    "        converted_obj.loc[:,col] = df_obj[col]"
   ]
  },
  {
   "cell_type": "code",
   "execution_count": 21,
   "id": "44282452",
   "metadata": {},
   "outputs": [
    {
     "name": "stdout",
     "output_type": "stream",
     "text": [
      "334.537 KB\n",
      "165.438 KB\n"
     ]
    },
    {
     "data": {
      "text/plain": "          before  after\nobject       6.0      2\ncategory     NaN      1\ncategory     NaN      1\ncategory     NaN      1\ncategory     NaN      1",
      "text/html": "<div>\n<style scoped>\n    .dataframe tbody tr th:only-of-type {\n        vertical-align: middle;\n    }\n\n    .dataframe tbody tr th {\n        vertical-align: top;\n    }\n\n    .dataframe thead th {\n        text-align: right;\n    }\n</style>\n<table border=\"1\" class=\"dataframe\">\n  <thead>\n    <tr style=\"text-align: right;\">\n      <th></th>\n      <th>before</th>\n      <th>after</th>\n    </tr>\n  </thead>\n  <tbody>\n    <tr>\n      <th>object</th>\n      <td>6.0</td>\n      <td>2</td>\n    </tr>\n    <tr>\n      <th>category</th>\n      <td>NaN</td>\n      <td>1</td>\n    </tr>\n    <tr>\n      <th>category</th>\n      <td>NaN</td>\n      <td>1</td>\n    </tr>\n    <tr>\n      <th>category</th>\n      <td>NaN</td>\n      <td>1</td>\n    </tr>\n    <tr>\n      <th>category</th>\n      <td>NaN</td>\n      <td>1</td>\n    </tr>\n  </tbody>\n</table>\n</div>"
     },
     "execution_count": 21,
     "metadata": {},
     "output_type": "execute_result"
    }
   ],
   "source": [
    "print(mem_usage(df_obj))\n",
    "print(mem_usage(converted_obj))\n",
    "\n",
    "compare_obj = pd.concat([df_obj.dtypes,converted_obj.dtypes],axis=1)\n",
    "compare_obj.columns = ['before','after']\n",
    "compare_obj.apply(pd.Series.value_counts)"
   ]
  },
  {
   "cell_type": "code",
   "execution_count": 22,
   "id": "bdc67007",
   "metadata": {},
   "outputs": [
    {
     "data": {
      "text/plain": "'174.157 KB'"
     },
     "execution_count": 22,
     "metadata": {},
     "output_type": "execute_result"
    }
   ],
   "source": [
    "optimized_df[converted_obj.columns] = converted_obj\n",
    "mem_usage(optimized_df)"
   ]
  },
  {
   "cell_type": "code",
   "execution_count": 23,
   "id": "fdee351c",
   "metadata": {},
   "outputs": [],
   "source": [
    "df = optimized_df"
   ]
  },
  {
   "cell_type": "code",
   "execution_count": 24,
   "id": "50ac43fd",
   "metadata": {},
   "outputs": [
    {
     "name": "stdout",
     "output_type": "stream",
     "text": [
      "<class 'pandas.core.frame.DataFrame'>\n",
      "Int64Index: 744 entries, 0 to 917\n",
      "Data columns (total 9 columns):\n",
      " #   Column                      Non-Null Count  Dtype   \n",
      "---  ------                      --------------  -----   \n",
      " 0   Title                       744 non-null    object  \n",
      " 1   Distributor                 744 non-null    category\n",
      " 2   Release Date                744 non-null    object  \n",
      " 3   Domestic Sales (in $)       744 non-null    uint32  \n",
      " 4   International Sales (in $)  744 non-null    uint32  \n",
      " 5   World Sales (in $)          744 non-null    uint32  \n",
      " 6   Genre                       744 non-null    category\n",
      " 7   Movie Runtime               744 non-null    category\n",
      " 8   License                     744 non-null    category\n",
      "dtypes: category(4), object(2), uint32(3)\n",
      "memory usage: 174.2 KB\n"
     ]
    }
   ],
   "source": [
    "df.info(memory_usage='deep')"
   ]
  },
  {
   "cell_type": "code",
   "execution_count": 25,
   "id": "b9783cc6",
   "metadata": {},
   "outputs": [
    {
     "data": {
      "text/plain": "                                    Title  \\\n156        Star Trek Into Darkness (2013)   \n446                 Identity Thief (2013)   \n726  You Don't Mess with the Zohan (2008)   \n771               Two Weeks Notice (2002)   \n532                 50 First Dates (2004)   \n147          X-Men: The Last Stand (2006)   \n1                Avengers: Endgame (2019)   \n194                            300 (2006)   \n909                      Snow Dogs (2002)   \n758                  Julie & Julia (2009)   \n\n                             Distributor       Release Date  \\\n156                   Paramount Pictures        May 8, 2013   \n446                   Universal Pictures   February 7, 2013   \n726    Sony Pictures Entertainment (SPE)       June 5, 2008   \n771                         Warner Bros.  December 20, 2002   \n532    Sony Pictures Entertainment (SPE)  February 13, 2004   \n147                Twentieth Century Fox       May 24, 2006   \n1    Walt Disney Studios Motion Pictures     April 24, 2019   \n194                         Warner Bros.      March 7, 2007   \n909  Walt Disney Studios Motion Pictures   January 18, 2002   \n758    Sony Pictures Entertainment (SPE)     August 6, 2009   \n\n     Domestic Sales (in $)  International Sales (in $)  World Sales (in $)  \\\n156              228778661                   238586585           467365246   \n446              134506920                    39458090           173965010   \n726              100018837                   104294563           204313400   \n771               93354851                   105688620           199043471   \n532              120908074                    77612860           198520934   \n147              234362462                   226072829           460435291   \n1                858373000                  1939128328          2797501328   \n194              210614939                   245453242           456068181   \n909               81172560                    33862530           115035090   \n758               94125426                    35415096           129540522   \n\n                                          Genre Movie Runtime License  \n156           ['Action', 'Adventure', 'Sci-Fi']   2 hr 12 min   PG-13  \n446                ['Comedy', 'Crime', 'Drama']   1 hr 51 min       R  \n726                                  ['Comedy']   1 hr 53 min   PG-13  \n771                       ['Comedy', 'Romance']   1 hr 41 min   PG-13  \n532              ['Comedy', 'Drama', 'Romance']   1 hr 39 min   PG-13  \n147           ['Action', 'Adventure', 'Sci-Fi']   1 hr 44 min   PG-13  \n1    ['Action', 'Adventure', 'Drama', 'Sci-Fi']    3 hr 1 min   PG-13  \n194                         ['Action', 'Drama']   1 hr 57 min       R  \n909  ['Adventure', 'Comedy', 'Family', 'Sport']   1 hr 39 min      PG  \n758           ['Biography', 'Drama', 'Romance']    2 hr 3 min   PG-13  ",
      "text/html": "<div>\n<style scoped>\n    .dataframe tbody tr th:only-of-type {\n        vertical-align: middle;\n    }\n\n    .dataframe tbody tr th {\n        vertical-align: top;\n    }\n\n    .dataframe thead th {\n        text-align: right;\n    }\n</style>\n<table border=\"1\" class=\"dataframe\">\n  <thead>\n    <tr style=\"text-align: right;\">\n      <th></th>\n      <th>Title</th>\n      <th>Distributor</th>\n      <th>Release Date</th>\n      <th>Domestic Sales (in $)</th>\n      <th>International Sales (in $)</th>\n      <th>World Sales (in $)</th>\n      <th>Genre</th>\n      <th>Movie Runtime</th>\n      <th>License</th>\n    </tr>\n  </thead>\n  <tbody>\n    <tr>\n      <th>156</th>\n      <td>Star Trek Into Darkness (2013)</td>\n      <td>Paramount Pictures</td>\n      <td>May 8, 2013</td>\n      <td>228778661</td>\n      <td>238586585</td>\n      <td>467365246</td>\n      <td>['Action', 'Adventure', 'Sci-Fi']</td>\n      <td>2 hr 12 min</td>\n      <td>PG-13</td>\n    </tr>\n    <tr>\n      <th>446</th>\n      <td>Identity Thief (2013)</td>\n      <td>Universal Pictures</td>\n      <td>February 7, 2013</td>\n      <td>134506920</td>\n      <td>39458090</td>\n      <td>173965010</td>\n      <td>['Comedy', 'Crime', 'Drama']</td>\n      <td>1 hr 51 min</td>\n      <td>R</td>\n    </tr>\n    <tr>\n      <th>726</th>\n      <td>You Don't Mess with the Zohan (2008)</td>\n      <td>Sony Pictures Entertainment (SPE)</td>\n      <td>June 5, 2008</td>\n      <td>100018837</td>\n      <td>104294563</td>\n      <td>204313400</td>\n      <td>['Comedy']</td>\n      <td>1 hr 53 min</td>\n      <td>PG-13</td>\n    </tr>\n    <tr>\n      <th>771</th>\n      <td>Two Weeks Notice (2002)</td>\n      <td>Warner Bros.</td>\n      <td>December 20, 2002</td>\n      <td>93354851</td>\n      <td>105688620</td>\n      <td>199043471</td>\n      <td>['Comedy', 'Romance']</td>\n      <td>1 hr 41 min</td>\n      <td>PG-13</td>\n    </tr>\n    <tr>\n      <th>532</th>\n      <td>50 First Dates (2004)</td>\n      <td>Sony Pictures Entertainment (SPE)</td>\n      <td>February 13, 2004</td>\n      <td>120908074</td>\n      <td>77612860</td>\n      <td>198520934</td>\n      <td>['Comedy', 'Drama', 'Romance']</td>\n      <td>1 hr 39 min</td>\n      <td>PG-13</td>\n    </tr>\n    <tr>\n      <th>147</th>\n      <td>X-Men: The Last Stand (2006)</td>\n      <td>Twentieth Century Fox</td>\n      <td>May 24, 2006</td>\n      <td>234362462</td>\n      <td>226072829</td>\n      <td>460435291</td>\n      <td>['Action', 'Adventure', 'Sci-Fi']</td>\n      <td>1 hr 44 min</td>\n      <td>PG-13</td>\n    </tr>\n    <tr>\n      <th>1</th>\n      <td>Avengers: Endgame (2019)</td>\n      <td>Walt Disney Studios Motion Pictures</td>\n      <td>April 24, 2019</td>\n      <td>858373000</td>\n      <td>1939128328</td>\n      <td>2797501328</td>\n      <td>['Action', 'Adventure', 'Drama', 'Sci-Fi']</td>\n      <td>3 hr 1 min</td>\n      <td>PG-13</td>\n    </tr>\n    <tr>\n      <th>194</th>\n      <td>300 (2006)</td>\n      <td>Warner Bros.</td>\n      <td>March 7, 2007</td>\n      <td>210614939</td>\n      <td>245453242</td>\n      <td>456068181</td>\n      <td>['Action', 'Drama']</td>\n      <td>1 hr 57 min</td>\n      <td>R</td>\n    </tr>\n    <tr>\n      <th>909</th>\n      <td>Snow Dogs (2002)</td>\n      <td>Walt Disney Studios Motion Pictures</td>\n      <td>January 18, 2002</td>\n      <td>81172560</td>\n      <td>33862530</td>\n      <td>115035090</td>\n      <td>['Adventure', 'Comedy', 'Family', 'Sport']</td>\n      <td>1 hr 39 min</td>\n      <td>PG</td>\n    </tr>\n    <tr>\n      <th>758</th>\n      <td>Julie &amp; Julia (2009)</td>\n      <td>Sony Pictures Entertainment (SPE)</td>\n      <td>August 6, 2009</td>\n      <td>94125426</td>\n      <td>35415096</td>\n      <td>129540522</td>\n      <td>['Biography', 'Drama', 'Romance']</td>\n      <td>2 hr 3 min</td>\n      <td>PG-13</td>\n    </tr>\n  </tbody>\n</table>\n</div>"
     },
     "execution_count": 25,
     "metadata": {},
     "output_type": "execute_result"
    }
   ],
   "source": [
    "df.sample(10)"
   ]
  },
  {
   "cell_type": "code",
   "execution_count": 26,
   "id": "38dc5f19",
   "metadata": {},
   "outputs": [
    {
     "ename": "KeyError",
     "evalue": "'goals'",
     "output_type": "error",
     "traceback": [
      "\u001B[1;31m---------------------------------------------------------------------------\u001B[0m",
      "\u001B[1;31mKeyError\u001B[0m                                  Traceback (most recent call last)",
      "File \u001B[1;32mC:\\Уник\\МО\\Lab1\\venv\\Lib\\site-packages\\pandas\\core\\indexes\\base.py:3802\u001B[0m, in \u001B[0;36mIndex.get_loc\u001B[1;34m(self, key, method, tolerance)\u001B[0m\n\u001B[0;32m   3801\u001B[0m \u001B[38;5;28;01mtry\u001B[39;00m:\n\u001B[1;32m-> 3802\u001B[0m     \u001B[38;5;28;01mreturn\u001B[39;00m \u001B[38;5;28;43mself\u001B[39;49m\u001B[38;5;241;43m.\u001B[39;49m\u001B[43m_engine\u001B[49m\u001B[38;5;241;43m.\u001B[39;49m\u001B[43mget_loc\u001B[49m\u001B[43m(\u001B[49m\u001B[43mcasted_key\u001B[49m\u001B[43m)\u001B[49m\n\u001B[0;32m   3803\u001B[0m \u001B[38;5;28;01mexcept\u001B[39;00m \u001B[38;5;167;01mKeyError\u001B[39;00m \u001B[38;5;28;01mas\u001B[39;00m err:\n",
      "File \u001B[1;32mC:\\Уник\\МО\\Lab1\\venv\\Lib\\site-packages\\pandas\\_libs\\index.pyx:138\u001B[0m, in \u001B[0;36mpandas._libs.index.IndexEngine.get_loc\u001B[1;34m()\u001B[0m\n",
      "File \u001B[1;32mC:\\Уник\\МО\\Lab1\\venv\\Lib\\site-packages\\pandas\\_libs\\index.pyx:165\u001B[0m, in \u001B[0;36mpandas._libs.index.IndexEngine.get_loc\u001B[1;34m()\u001B[0m\n",
      "File \u001B[1;32mpandas\\_libs\\hashtable_class_helper.pxi:5745\u001B[0m, in \u001B[0;36mpandas._libs.hashtable.PyObjectHashTable.get_item\u001B[1;34m()\u001B[0m\n",
      "File \u001B[1;32mpandas\\_libs\\hashtable_class_helper.pxi:5753\u001B[0m, in \u001B[0;36mpandas._libs.hashtable.PyObjectHashTable.get_item\u001B[1;34m()\u001B[0m\n",
      "\u001B[1;31mKeyError\u001B[0m: 'goals'",
      "\nThe above exception was the direct cause of the following exception:\n",
      "\u001B[1;31mKeyError\u001B[0m                                  Traceback (most recent call last)",
      "Cell \u001B[1;32mIn[26], line 1\u001B[0m\n\u001B[1;32m----> 1\u001B[0m df[\u001B[38;5;124m'\u001B[39m\u001B[38;5;124mscoring action\u001B[39m\u001B[38;5;124m'\u001B[39m] \u001B[38;5;241m=\u001B[39m \u001B[43mdf\u001B[49m\u001B[43m[\u001B[49m\u001B[38;5;124;43m'\u001B[39;49m\u001B[38;5;124;43mgoals\u001B[39;49m\u001B[38;5;124;43m'\u001B[39;49m\u001B[43m]\u001B[49m \u001B[38;5;241m+\u001B[39m df[\u001B[38;5;124m'\u001B[39m\u001B[38;5;124massists\u001B[39m\u001B[38;5;124m'\u001B[39m]\n\u001B[0;32m      2\u001B[0m df[\u001B[38;5;124m'\u001B[39m\u001B[38;5;124mtotal cards\u001B[39m\u001B[38;5;124m'\u001B[39m] \u001B[38;5;241m=\u001B[39m df[\u001B[38;5;124m'\u001B[39m\u001B[38;5;124myellow cards\u001B[39m\u001B[38;5;124m'\u001B[39m] \u001B[38;5;241m+\u001B[39m df[\u001B[38;5;124m'\u001B[39m\u001B[38;5;124msecond yellow cards\u001B[39m\u001B[38;5;124m'\u001B[39m] \u001B[38;5;241m+\u001B[39m df[\u001B[38;5;124m'\u001B[39m\u001B[38;5;124mred cards\u001B[39m\u001B[38;5;124m'\u001B[39m]\n",
      "File \u001B[1;32mC:\\Уник\\МО\\Lab1\\venv\\Lib\\site-packages\\pandas\\core\\frame.py:3807\u001B[0m, in \u001B[0;36mDataFrame.__getitem__\u001B[1;34m(self, key)\u001B[0m\n\u001B[0;32m   3805\u001B[0m \u001B[38;5;28;01mif\u001B[39;00m \u001B[38;5;28mself\u001B[39m\u001B[38;5;241m.\u001B[39mcolumns\u001B[38;5;241m.\u001B[39mnlevels \u001B[38;5;241m>\u001B[39m \u001B[38;5;241m1\u001B[39m:\n\u001B[0;32m   3806\u001B[0m     \u001B[38;5;28;01mreturn\u001B[39;00m \u001B[38;5;28mself\u001B[39m\u001B[38;5;241m.\u001B[39m_getitem_multilevel(key)\n\u001B[1;32m-> 3807\u001B[0m indexer \u001B[38;5;241m=\u001B[39m \u001B[38;5;28;43mself\u001B[39;49m\u001B[38;5;241;43m.\u001B[39;49m\u001B[43mcolumns\u001B[49m\u001B[38;5;241;43m.\u001B[39;49m\u001B[43mget_loc\u001B[49m\u001B[43m(\u001B[49m\u001B[43mkey\u001B[49m\u001B[43m)\u001B[49m\n\u001B[0;32m   3808\u001B[0m \u001B[38;5;28;01mif\u001B[39;00m is_integer(indexer):\n\u001B[0;32m   3809\u001B[0m     indexer \u001B[38;5;241m=\u001B[39m [indexer]\n",
      "File \u001B[1;32mC:\\Уник\\МО\\Lab1\\venv\\Lib\\site-packages\\pandas\\core\\indexes\\base.py:3804\u001B[0m, in \u001B[0;36mIndex.get_loc\u001B[1;34m(self, key, method, tolerance)\u001B[0m\n\u001B[0;32m   3802\u001B[0m     \u001B[38;5;28;01mreturn\u001B[39;00m \u001B[38;5;28mself\u001B[39m\u001B[38;5;241m.\u001B[39m_engine\u001B[38;5;241m.\u001B[39mget_loc(casted_key)\n\u001B[0;32m   3803\u001B[0m \u001B[38;5;28;01mexcept\u001B[39;00m \u001B[38;5;167;01mKeyError\u001B[39;00m \u001B[38;5;28;01mas\u001B[39;00m err:\n\u001B[1;32m-> 3804\u001B[0m     \u001B[38;5;28;01mraise\u001B[39;00m \u001B[38;5;167;01mKeyError\u001B[39;00m(key) \u001B[38;5;28;01mfrom\u001B[39;00m \u001B[38;5;21;01merr\u001B[39;00m\n\u001B[0;32m   3805\u001B[0m \u001B[38;5;28;01mexcept\u001B[39;00m \u001B[38;5;167;01mTypeError\u001B[39;00m:\n\u001B[0;32m   3806\u001B[0m     \u001B[38;5;66;03m# If we have a listlike key, _check_indexing_error will raise\u001B[39;00m\n\u001B[0;32m   3807\u001B[0m     \u001B[38;5;66;03m#  InvalidIndexError. Otherwise we fall through and re-raise\u001B[39;00m\n\u001B[0;32m   3808\u001B[0m     \u001B[38;5;66;03m#  the TypeError.\u001B[39;00m\n\u001B[0;32m   3809\u001B[0m     \u001B[38;5;28mself\u001B[39m\u001B[38;5;241m.\u001B[39m_check_indexing_error(key)\n",
      "\u001B[1;31mKeyError\u001B[0m: 'goals'"
     ]
    }
   ],
   "source": [
    "df['scoring action'] = df['goals'] + df['assists']\n",
    "df['total cards'] = df['yellow cards'] + df['second yellow cards'] + df['red cards']"
   ]
  },
  {
   "cell_type": "code",
   "execution_count": null,
   "id": "842b655a",
   "metadata": {},
   "outputs": [],
   "source": [
    "df.head()"
   ]
  },
  {
   "cell_type": "code",
   "execution_count": null,
   "id": "a9f23940",
   "metadata": {},
   "outputs": [],
   "source": [
    "df_by_each_age = df.pivot_table(index='age',\n",
    "                               values='name',\n",
    "                               aggfunc='count')"
   ]
  },
  {
   "cell_type": "code",
   "execution_count": null,
   "id": "0973320b",
   "metadata": {},
   "outputs": [],
   "source": [
    "sns.lineplot(data=df_by_each_age)\n",
    "sns.set_style('darkgrid')\n",
    "plt.title('Количество игроков каждого возраста')\n",
    "plt.xlabel('Возраст')\n",
    "plt.ylabel('Количество игроков')\n",
    "plt.legend('')"
   ]
  },
  {
   "cell_type": "code",
   "execution_count": null,
   "id": "0a06e1cf",
   "metadata": {},
   "outputs": [],
   "source": [
    "\n",
    "top_positions = df.groupby('Distributor')['Distributor'].count()\n",
    "positions = top_positions.index"
   ]
  },
  {
   "cell_type": "code",
   "execution_count": null,
   "id": "031f361e",
   "metadata": {},
   "outputs": [],
   "source": [
    "plt.figure(figsize=(25,7))\n",
    "plt.pie(x=top_positions, labels=positions, autopct=\"%.2f\")"
   ]
  },
  {
   "cell_type": "code",
   "execution_count": null,
   "id": "7e047ab9",
   "metadata": {},
   "outputs": [],
   "source": [
    "top_5_countries = df.pivot_table(index='country', \n",
    "                                  values='name',\n",
    "                                  aggfunc='count').sort_values(by='name', ascending=False).head(5)\n",
    "top_5_countries = top_5_countries.reset_index()\n",
    "top_5_countries"
   ]
  },
  {
   "cell_type": "code",
   "execution_count": null,
   "id": "65c5bc40",
   "metadata": {},
   "outputs": [],
   "source": [
    "country_list = ['England','France','Spain','Brazil','Germany']"
   ]
  },
  {
   "cell_type": "code",
   "execution_count": null,
   "id": "823a4047",
   "metadata": {
    "scrolled": true
   },
   "outputs": [],
   "source": [
    "for country in country_list:\n",
    "    df[df['country'] == country].pivot_table(index='position',\n",
    "                                             values='name',\n",
    "                                             aggfunc='count').plot(kind='bar', figsize=(13,2))\n",
    "    plt.title(country)\n",
    "    plt.legend('')"
   ]
  },
  {
   "cell_type": "code",
   "execution_count": null,
   "id": "c1cb8ed1",
   "metadata": {},
   "outputs": [],
   "source": [
    "min_price = df.pivot_table(index='position',\n",
    "                           values='markey value in millions(£)',\n",
    "                           aggfunc='min').sort_values(by='markey value in millions(£)', ascending=False)\n",
    "mean_price = df.pivot_table(index='position',\n",
    "                           values='markey value in millions(£)',\n",
    "                           aggfunc='mean').sort_values(by='markey value in millions(£)', ascending=False)\n",
    "max_price = df.pivot_table(index='position',\n",
    "                           values='markey value in millions(£)',\n",
    "                           aggfunc='max').sort_values(by='markey value in millions(£)', ascending=False)\n",
    "mean_price"
   ]
  },
  {
   "cell_type": "code",
   "execution_count": null,
   "id": "5303340a",
   "metadata": {},
   "outputs": [],
   "source": [
    "min_price = df.pivot_table(index='Distributor',\n",
    "                           values='World Sales (in $)',\n",
    "                           aggfunc='min').sort_values(by='World Sales (in $)')\n",
    "plt.figure(figsize=(20,4))\n",
    "plt.xticks(rotation=90)\n",
    "sns.barplot(x=min_price.index,y=min_price['World Sales (in $)'])\n",
    "plt.title('Максимальные сборы по миру')\n",
    "plt.xlabel('Фильм')\n",
    "plt.ylabel('Мировые сборы')\n"
   ]
  },
  {
   "cell_type": "code",
   "execution_count": null,
   "id": "91473f28",
   "metadata": {},
   "outputs": [],
   "source": [
    "mean_price = df.pivot_table(index='position',\n",
    "                           values='markey value in millions(£)',\n",
    "                           aggfunc='mean').sort_values(by='markey value in millions(£)')\n",
    "plt.figure(figsize=(20,4))\n",
    "sns.barplot(x=mean_price.index,y=mean_price['markey value in millions(£)'])\n",
    "plt.title('Средняя стоимость позиции')\n",
    "plt.xlabel('Позиция')\n",
    "plt.ylabel('Стоимость')"
   ]
  },
  {
   "cell_type": "code",
   "execution_count": null,
   "id": "367361f5",
   "metadata": {},
   "outputs": [],
   "source": [
    "max_price = df.pivot_table(index='Distributor',\n",
    "                           values='World Sales (in $)',\n",
    "                           aggfunc='max').sort_values(by='World Sales (in $)')\n",
    "plt.figure(figsize=(20,4))\n",
    "plt.xticks(rotation=90)\n",
    "sns.barplot(x=max_price.index,y=max_price['World Sales (in $)'])\n",
    "plt.title('Максимальные сборы по миру')\n",
    "plt.xlabel('Издатель')\n",
    "plt.ylabel('Мировые сборы')"
   ]
  },
  {
   "cell_type": "code",
   "execution_count": null,
   "id": "f4d3733f",
   "metadata": {},
   "outputs": [],
   "source": [
    "for country in country_list:\n",
    "    df[df['country'] == country].pivot_table(index='position',\n",
    "                                             values='markey value in millions(£)',\n",
    "                                             aggfunc='mean').plot(kind='bar', figsize=(13,2))\n",
    "    plt.title(country)\n",
    "    plt.legend('')"
   ]
  },
  {
   "cell_type": "code",
   "execution_count": null,
   "id": "bdd1b7b0",
   "metadata": {},
   "outputs": [],
   "source": [
    "df['position'].unique()\n",
    "    "
   ]
  },
  {
   "cell_type": "code",
   "execution_count": null,
   "id": "a890a5da",
   "metadata": {},
   "outputs": [],
   "source": [
    "df_a = df[df['position'].isin(['Centre-Forward','Left Winger','Right Winger','Second Striker', 'Attacking Midfield'])]\n"
   ]
  },
  {
   "cell_type": "code",
   "execution_count": null,
   "id": "b1e4c8d5",
   "metadata": {},
   "outputs": [],
   "source": [
    "pd.plotting.scatter_matrix(df_a[['markey value in millions(£)','age','scoring action']],figsize=(10,10))"
   ]
  },
  {
   "cell_type": "code",
   "execution_count": null,
   "id": "0fd76557",
   "metadata": {},
   "outputs": [],
   "source": [
    "df_a_filter = df_a[['International Sales','License','Movie Runtime']]\n",
    "plt.figure(figsize=(1,3))\n",
    "sns.heatmap(df_a_filter.corr()[['markey value in millions(£)']].sort_values(by='markey value in millions(£)', \n",
    "                                                                            ascending=False),cmap='Blues',annot=True)"
   ]
  },
  {
   "cell_type": "code",
   "execution_count": null,
   "id": "e74493ad",
   "metadata": {},
   "outputs": [],
   "source": [
    "mean_foul = df.pivot_table(index='Distributor',\n",
    "                           values='Domestic Sales (in $)',\n",
    "                           aggfunc='mean').sort_values(by='Distributor')"
   ]
  },
  {
   "cell_type": "code",
   "execution_count": null,
   "id": "a08dbf03",
   "metadata": {},
   "outputs": [],
   "source": [
    "plt.figure(figsize=(18,6))\n",
    "plt.xticks(rotation=90)\n",
    "sns.lineplot(data=mean_foul)\n",
    "sns.set_style('darkgrid')\n",
    "plt.title('Средняя сумма сборов в домашнем прокате')\n",
    "plt.xlabel('Издатели')\n",
    "plt.ylabel('Домашние сборы')\n",
    "plt.legend('')"
   ]
  },
  {
   "cell_type": "code",
   "execution_count": null,
   "id": "695a8de6",
   "metadata": {},
   "outputs": [],
   "source": [
    "ax = sns.displot(data=df,x='License',color='blue',bins=20,kde=True)\n",
    "ax.fig.set_figheight(5)\n",
    "ax.fig.set_figwidth(5)\n",
    "plt.xticks(rotation=90)\n",
    "plt.title('Количество фильмов по возрастному рейтингу')\n",
    "plt.xlabel('Возрастной рейтинг')\n",
    "plt.ylabel('Количество')"
   ]
  },
  {
   "cell_type": "code",
   "execution_count": null,
   "id": "8da47213",
   "metadata": {},
   "outputs": [],
   "source": [
    "sns.heatmap(df.corr(),annot = True)"
   ]
  }
 ],
 "metadata": {
  "kernelspec": {
   "display_name": "Python 3 (ipykernel)",
   "language": "python",
   "name": "python3"
  },
  "language_info": {
   "codemirror_mode": {
    "name": "ipython",
    "version": 3
   },
   "file_extension": ".py",
   "mimetype": "text/x-python",
   "name": "python",
   "nbconvert_exporter": "python",
   "pygments_lexer": "ipython3",
   "version": "3.11.1"
  }
 },
 "nbformat": 4,
 "nbformat_minor": 5
}
